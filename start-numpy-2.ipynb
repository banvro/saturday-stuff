{
 "cells": [
  {
   "cell_type": "code",
   "execution_count": 2,
   "id": "c3be837e-1729-4756-921e-257c97feebea",
   "metadata": {},
   "outputs": [],
   "source": [
    "# Numpy:"
   ]
  },
  {
   "cell_type": "markdown",
   "id": "ac95ec4b-86f9-4ea4-8fd5-7c0e5a1d6fba",
   "metadata": {},
   "source": [
    "### start numpy"
   ]
  },
  {
   "cell_type": "code",
   "execution_count": null,
   "id": "abeb4aab-f4c4-4cc9-966f-66f067686daa",
   "metadata": {},
   "outputs": [],
   "source": [
    "numpy ====> numarical python\n",
    "\n",
    "    2005\n",
    "    Travis Oliphant\n",
    "    "
   ]
  },
  {
   "cell_type": "code",
   "execution_count": null,
   "id": "1a1e5b5b-9425-42a0-8c71-258149e32dcf",
   "metadata": {},
   "outputs": [],
   "source": [
    "# list\n",
    "# tuple set dictionry"
   ]
  },
  {
   "cell_type": "code",
   "execution_count": 3,
   "id": "071c922e-8bd3-477d-96f8-2b8907789af8",
   "metadata": {},
   "outputs": [],
   "source": [
    "# list --> hitrogenious"
   ]
  },
  {
   "cell_type": "code",
   "execution_count": null,
   "id": "3ad2cdd8-a477-4738-b52b-7f419106df0b",
   "metadata": {},
   "outputs": [],
   "source": [
    "numpy\n",
    "    70%    python\n",
    "    30%    c/c++\n",
    "\n",
    "\n",
    "50x faster then list"
   ]
  },
  {
   "cell_type": "code",
   "execution_count": null,
   "id": "a1ff3bf2-292b-4e7a-b3a3-fb43916728cc",
   "metadata": {},
   "outputs": [],
   "source": []
  },
  {
   "cell_type": "code",
   "execution_count": null,
   "id": "8ebf16e3-0599-40cc-b6e5-259c983f7058",
   "metadata": {},
   "outputs": [],
   "source": [
    "# arrays : "
   ]
  },
  {
   "cell_type": "code",
   "execution_count": null,
   "id": "9815a521-89c4-4e09-8414-2bf9f464e4d2",
   "metadata": {},
   "outputs": [],
   "source": [
    "\n"
   ]
  },
  {
   "cell_type": "code",
   "execution_count": 4,
   "id": "8281f778-ec62-4b4a-85ef-ce96e5e289f3",
   "metadata": {},
   "outputs": [
    {
     "name": "stdout",
     "output_type": "stream",
     "text": [
      "Requirement already satisfied: numpy in c:\\users\\17nru\\appdata\\local\\programs\\python\\python312\\lib\\site-packages (1.26.2)\n"
     ]
    },
    {
     "name": "stderr",
     "output_type": "stream",
     "text": [
      "DEPRECATION: textract 1.6.5 has a non-standard dependency specifier extract-msg<=0.29.*. pip 24.1 will enforce this behaviour change. A possible replacement is to upgrade to a newer version of textract or contact the author to suggest that they release a version with a conforming dependency specifiers. Discussion can be found at https://github.com/pypa/pip/issues/12063\n"
     ]
    }
   ],
   "source": [
    "!pip install numpy"
   ]
  },
  {
   "cell_type": "code",
   "execution_count": null,
   "id": "9bca3a65-e950-499a-8d7f-1284b4f5617b",
   "metadata": {},
   "outputs": [],
   "source": []
  },
  {
   "cell_type": "code",
   "execution_count": null,
   "id": "4259f358-a751-4258-973d-5ba39c81de5b",
   "metadata": {},
   "outputs": [],
   "source": [
    "jupyter notebook ."
   ]
  },
  {
   "cell_type": "markdown",
   "id": "8aa09293-2ae0-48a6-b9c4-4c59630e8c0b",
   "metadata": {},
   "source": [
    "## numpy ndarrys"
   ]
  },
  {
   "cell_type": "code",
   "execution_count": null,
   "id": "e924b246-c688-47d8-8b8a-7553bc423d55",
   "metadata": {},
   "outputs": [],
   "source": [
    "1) ndarray -> n dimational arrays!\n",
    "\n",
    "    when we create any obect with the help of array method in numpy. that object us called ndarray.."
   ]
  },
  {
   "cell_type": "code",
   "execution_count": null,
   "id": "ada34c75-d601-436f-9f50-4ff1c618a7de",
   "metadata": {},
   "outputs": [],
   "source": []
  },
  {
   "cell_type": "code",
   "execution_count": 5,
   "id": "01e04395-ce50-46ee-b6aa-13d030949438",
   "metadata": {},
   "outputs": [],
   "source": [
    "import numpy as np"
   ]
  },
  {
   "cell_type": "code",
   "execution_count": 6,
   "id": "7f1fe66d-cf29-4054-8d43-a1291ae1f679",
   "metadata": {},
   "outputs": [],
   "source": [
    "arr = np.array(10)"
   ]
  },
  {
   "cell_type": "code",
   "execution_count": null,
   "id": "90f25821-e388-4149-8f75-b5ce2d7a9170",
   "metadata": {},
   "outputs": [],
   "source": []
  },
  {
   "cell_type": "code",
   "execution_count": 7,
   "id": "0f8fd5e4-497c-4c07-b071-7d2a27b86d01",
   "metadata": {},
   "outputs": [],
   "source": [
    "x = 10"
   ]
  },
  {
   "cell_type": "code",
   "execution_count": 8,
   "id": "d8b89ca4-d856-4f05-a998-5f90bb6da24b",
   "metadata": {},
   "outputs": [
    {
     "data": {
      "text/plain": [
       "int"
      ]
     },
     "execution_count": 8,
     "metadata": {},
     "output_type": "execute_result"
    }
   ],
   "source": [
    "type(x)"
   ]
  },
  {
   "cell_type": "code",
   "execution_count": 9,
   "id": "feee489d-5fec-45c7-8831-ce63ee3698ed",
   "metadata": {},
   "outputs": [
    {
     "data": {
      "text/plain": [
       "numpy.ndarray"
      ]
     },
     "execution_count": 9,
     "metadata": {},
     "output_type": "execute_result"
    }
   ],
   "source": [
    "type(arr)"
   ]
  },
  {
   "cell_type": "code",
   "execution_count": 10,
   "id": "25391382-562f-4c05-8916-1a96b08a7cb7",
   "metadata": {},
   "outputs": [
    {
     "data": {
      "text/plain": [
       "array(10)"
      ]
     },
     "execution_count": 10,
     "metadata": {},
     "output_type": "execute_result"
    }
   ],
   "source": [
    "arr"
   ]
  },
  {
   "cell_type": "code",
   "execution_count": null,
   "id": "e5bce3be-0fa5-4bcf-b8a4-d6d811de7709",
   "metadata": {},
   "outputs": [],
   "source": []
  },
  {
   "cell_type": "code",
   "execution_count": 12,
   "id": "cd1dcf34-0cf6-45c2-8270-eb1d4b23dc6c",
   "metadata": {},
   "outputs": [],
   "source": [
    "# attribute:::::\n",
    "\n",
    "\n",
    "        # ndim ---> return dimmession of an ndarrayyyy"
   ]
  },
  {
   "cell_type": "code",
   "execution_count": 13,
   "id": "7ad6544b-9f10-40dd-b714-164d8d4795f0",
   "metadata": {},
   "outputs": [
    {
     "data": {
      "text/plain": [
       "0"
      ]
     },
     "execution_count": 13,
     "metadata": {},
     "output_type": "execute_result"
    }
   ],
   "source": [
    "arr.ndim"
   ]
  },
  {
   "cell_type": "code",
   "execution_count": null,
   "id": "4145d2bc-7018-46c7-a840-92ffe11a515d",
   "metadata": {},
   "outputs": [],
   "source": []
  },
  {
   "cell_type": "markdown",
   "id": "2c71aefe-f486-48a3-a722-6cc3d9af2a1b",
   "metadata": {},
   "source": [
    "## crate 1-d ndarray/.."
   ]
  },
  {
   "cell_type": "code",
   "execution_count": 14,
   "id": "dc0e198b-0a99-4158-87ac-fd3ae3aa6f33",
   "metadata": {},
   "outputs": [],
   "source": [
    "x = np.array([12, 45, 23, 100, 90])"
   ]
  },
  {
   "cell_type": "code",
   "execution_count": 15,
   "id": "8bc5be00-9ecc-4ae3-815a-b3bf57c44781",
   "metadata": {},
   "outputs": [
    {
     "data": {
      "text/plain": [
       "array([ 12,  45,  23, 100,  90])"
      ]
     },
     "execution_count": 15,
     "metadata": {},
     "output_type": "execute_result"
    }
   ],
   "source": [
    "x"
   ]
  },
  {
   "cell_type": "code",
   "execution_count": 17,
   "id": "026738bd-40e3-47c1-bc40-e534ab688413",
   "metadata": {},
   "outputs": [
    {
     "data": {
      "text/plain": [
       "1"
      ]
     },
     "execution_count": 17,
     "metadata": {},
     "output_type": "execute_result"
    }
   ],
   "source": [
    "x.ndim"
   ]
  },
  {
   "cell_type": "code",
   "execution_count": null,
   "id": "1cc49834-5a2d-42db-8032-a23d8aefd64c",
   "metadata": {},
   "outputs": [],
   "source": []
  },
  {
   "cell_type": "code",
   "execution_count": 18,
   "id": "826c22af-03e0-44b1-aedb-6c9a085c71df",
   "metadata": {},
   "outputs": [],
   "source": [
    "# 2d nd array"
   ]
  },
  {
   "cell_type": "code",
   "execution_count": null,
   "id": "43dd2fe8-eb83-4217-8e4b-38bd17cc8a8b",
   "metadata": {},
   "outputs": [],
   "source": []
  },
  {
   "cell_type": "code",
   "execution_count": 22,
   "id": "56cfd16e-50ed-4e1b-b7dc-daabacd271a3",
   "metadata": {},
   "outputs": [],
   "source": [
    "y = np.array([[23, 45, 23, 10], [45, 67, 34, 20]])"
   ]
  },
  {
   "cell_type": "code",
   "execution_count": 23,
   "id": "c15bfab4-7891-4314-a35d-1a25d5bdd4ad",
   "metadata": {},
   "outputs": [
    {
     "data": {
      "text/plain": [
       "array([[23, 45, 23, 10],\n",
       "       [45, 67, 34, 20]])"
      ]
     },
     "execution_count": 23,
     "metadata": {},
     "output_type": "execute_result"
    }
   ],
   "source": [
    "y"
   ]
  },
  {
   "cell_type": "code",
   "execution_count": 24,
   "id": "cb66bf63-89a0-4a24-b107-5ec9fdf27321",
   "metadata": {},
   "outputs": [
    {
     "data": {
      "text/plain": [
       "2"
      ]
     },
     "execution_count": 24,
     "metadata": {},
     "output_type": "execute_result"
    }
   ],
   "source": [
    "y.ndim"
   ]
  },
  {
   "cell_type": "code",
   "execution_count": null,
   "id": "7d8f9e6a-6bc1-4550-8d52-4adbb0800f7a",
   "metadata": {},
   "outputs": [],
   "source": []
  },
  {
   "cell_type": "code",
   "execution_count": null,
   "id": "20b545e7-5b79-4f17-8e0e-e8b35bef5e53",
   "metadata": {},
   "outputs": [],
   "source": []
  },
  {
   "cell_type": "code",
   "execution_count": 31,
   "id": "8676d6b0-2a82-4616-b19a-586b1523d52e",
   "metadata": {},
   "outputs": [],
   "source": [
    "z = np.array([[[12, 34, 20], [45, 34, 23]] , [[34, 56, 34], [54, 34, 23]]])"
   ]
  },
  {
   "cell_type": "code",
   "execution_count": 32,
   "id": "ad5e1b80-b81a-4131-9cc8-e3a131ee637e",
   "metadata": {},
   "outputs": [
    {
     "data": {
      "text/plain": [
       "array([[[12, 34, 20],\n",
       "        [45, 34, 23]],\n",
       "\n",
       "       [[34, 56, 34],\n",
       "        [54, 34, 23]]])"
      ]
     },
     "execution_count": 32,
     "metadata": {},
     "output_type": "execute_result"
    }
   ],
   "source": [
    "z"
   ]
  },
  {
   "cell_type": "code",
   "execution_count": 33,
   "id": "193a49b3-94d7-442a-a6f9-c5e23d3ed7c1",
   "metadata": {},
   "outputs": [
    {
     "data": {
      "text/plain": [
       "3"
      ]
     },
     "execution_count": 33,
     "metadata": {},
     "output_type": "execute_result"
    }
   ],
   "source": [
    "z.ndim"
   ]
  },
  {
   "cell_type": "code",
   "execution_count": null,
   "id": "3fc54a8e-2bd3-41e6-8f8d-a7f5d1fc17cc",
   "metadata": {},
   "outputs": [],
   "source": [
    "[[[23, 45, 23, 10], [45, 34, 23, 10], [45, 34, 123, 34]], [[45, 45, 23, 34], [45, 3, 23, 2], [45, 23, 23, 34]]]"
   ]
  },
  {
   "cell_type": "code",
   "execution_count": 34,
   "id": "1002a031-5f31-4d57-be02-4e8c1652e334",
   "metadata": {},
   "outputs": [],
   "source": [
    "xyz = np.array([[[[[[23]]]]]])"
   ]
  },
  {
   "cell_type": "code",
   "execution_count": 35,
   "id": "3d6627c8-3611-4456-9eae-1622abb178fe",
   "metadata": {},
   "outputs": [
    {
     "data": {
      "text/plain": [
       "6"
      ]
     },
     "execution_count": 35,
     "metadata": {},
     "output_type": "execute_result"
    }
   ],
   "source": [
    "xyz.ndim"
   ]
  },
  {
   "cell_type": "code",
   "execution_count": null,
   "id": "3c610dee-32d4-4728-96b3-29037f730541",
   "metadata": {},
   "outputs": [],
   "source": []
  },
  {
   "cell_type": "code",
   "execution_count": null,
   "id": "348961a3-466e-494d-8cd3-fbf275f7c5e8",
   "metadata": {},
   "outputs": [],
   "source": []
  },
  {
   "cell_type": "code",
   "execution_count": null,
   "id": "f060a7a8-c38b-49cc-9c63-122f3069692f",
   "metadata": {},
   "outputs": [],
   "source": []
  },
  {
   "cell_type": "code",
   "execution_count": 36,
   "id": "662254d3-9380-432b-90df-0d630aa33caa",
   "metadata": {},
   "outputs": [],
   "source": [
    "# indexing in ndarry"
   ]
  },
  {
   "cell_type": "code",
   "execution_count": 37,
   "id": "42238bd4-9718-493b-b089-f23834c18249",
   "metadata": {},
   "outputs": [],
   "source": [
    "# 1-d "
   ]
  },
  {
   "cell_type": "code",
   "execution_count": null,
   "id": "267760d7-14d4-41d1-bd48-9d5057fd03fb",
   "metadata": {},
   "outputs": [],
   "source": []
  },
  {
   "cell_type": "code",
   "execution_count": 38,
   "id": "b3705198-9993-4cb1-a21c-6413b277bafd",
   "metadata": {},
   "outputs": [],
   "source": [
    "x = np.array([12, 34, 56, 20, 100, 56, 19])"
   ]
  },
  {
   "cell_type": "code",
   "execution_count": 40,
   "id": "4e905b62-3685-4e92-a98a-d1b8fa7f5add",
   "metadata": {},
   "outputs": [],
   "source": [
    "p = x[4]"
   ]
  },
  {
   "cell_type": "code",
   "execution_count": 41,
   "id": "b10cb947-3135-4301-8f65-9d35fa24f6f4",
   "metadata": {},
   "outputs": [
    {
     "data": {
      "text/plain": [
       "100"
      ]
     },
     "execution_count": 41,
     "metadata": {},
     "output_type": "execute_result"
    }
   ],
   "source": [
    "p"
   ]
  },
  {
   "cell_type": "code",
   "execution_count": 42,
   "id": "82c8591f-38eb-4cf6-ae62-9902730c2ec9",
   "metadata": {},
   "outputs": [
    {
     "data": {
      "text/plain": [
       "56"
      ]
     },
     "execution_count": 42,
     "metadata": {},
     "output_type": "execute_result"
    }
   ],
   "source": [
    "x[2]"
   ]
  },
  {
   "cell_type": "code",
   "execution_count": 43,
   "id": "dffcdb21-a95a-4cfe-a4fa-47628065f352",
   "metadata": {},
   "outputs": [
    {
     "data": {
      "text/plain": [
       "100"
      ]
     },
     "execution_count": 43,
     "metadata": {},
     "output_type": "execute_result"
    }
   ],
   "source": [
    "x[-3]"
   ]
  },
  {
   "cell_type": "code",
   "execution_count": null,
   "id": "a07a5312-5056-414d-9611-064cd994af26",
   "metadata": {},
   "outputs": [],
   "source": []
  },
  {
   "cell_type": "code",
   "execution_count": null,
   "id": "397e281a-627c-4caa-94e2-dbbfe8082ea0",
   "metadata": {},
   "outputs": [],
   "source": []
  },
  {
   "cell_type": "code",
   "execution_count": 44,
   "id": "5199f16a-b164-44a2-ad83-6c798dbd97ba",
   "metadata": {},
   "outputs": [],
   "source": [
    "# indexing with 2d ndarray"
   ]
  },
  {
   "cell_type": "code",
   "execution_count": 46,
   "id": "86e954fe-631d-4243-b794-bd8709f364f3",
   "metadata": {},
   "outputs": [],
   "source": [
    "zx = np.array([[12, 34, 23, 5, 10], [56, 45, 23, 100, 78]])"
   ]
  },
  {
   "cell_type": "code",
   "execution_count": 47,
   "id": "f696528c-9b62-40f0-999d-2d6bf9608b82",
   "metadata": {},
   "outputs": [
    {
     "data": {
      "text/plain": [
       "array([[ 12,  34,  23,   5,  10],\n",
       "       [ 56,  45,  23, 100,  78]])"
      ]
     },
     "execution_count": 47,
     "metadata": {},
     "output_type": "execute_result"
    }
   ],
   "source": [
    "zx"
   ]
  },
  {
   "cell_type": "code",
   "execution_count": 48,
   "id": "a91b4a93-6d40-4249-8d8a-a969a05885c4",
   "metadata": {},
   "outputs": [
    {
     "data": {
      "text/plain": [
       "2"
      ]
     },
     "execution_count": 48,
     "metadata": {},
     "output_type": "execute_result"
    }
   ],
   "source": [
    "zx.ndim"
   ]
  },
  {
   "cell_type": "code",
   "execution_count": 50,
   "id": "cf6fc6c5-6e5d-438f-ad34-4a490e9d9e06",
   "metadata": {},
   "outputs": [
    {
     "data": {
      "text/plain": [
       "23"
      ]
     },
     "execution_count": 50,
     "metadata": {},
     "output_type": "execute_result"
    }
   ],
   "source": [
    "zx[1][2]"
   ]
  },
  {
   "cell_type": "code",
   "execution_count": 52,
   "id": "c53347c3-f7f4-4ecd-b21b-35fc048536a0",
   "metadata": {},
   "outputs": [
    {
     "data": {
      "text/plain": [
       "5"
      ]
     },
     "execution_count": 52,
     "metadata": {},
     "output_type": "execute_result"
    }
   ],
   "source": [
    "zx[0][3]"
   ]
  },
  {
   "cell_type": "code",
   "execution_count": 53,
   "id": "c5c120cc-36f5-4791-9d32-e3209c6282e1",
   "metadata": {},
   "outputs": [
    {
     "data": {
      "text/plain": [
       "(23, 5)"
      ]
     },
     "execution_count": 53,
     "metadata": {},
     "output_type": "execute_result"
    }
   ],
   "source": [
    "zx[1][2], zx[0][3]"
   ]
  },
  {
   "cell_type": "code",
   "execution_count": null,
   "id": "038af0bb-bccb-40b2-a093-75e134f6b6fa",
   "metadata": {},
   "outputs": [],
   "source": []
  },
  {
   "cell_type": "code",
   "execution_count": 54,
   "id": "79b12731-9771-4c2e-b442-373bd35bb864",
   "metadata": {},
   "outputs": [],
   "source": [
    "pqr = np.array([[[12, 34, 10], [34, 23, 10], [23, 345, 10]], [[34, 23, 45], [56, 23, 12], [34, 23, 2]]])"
   ]
  },
  {
   "cell_type": "code",
   "execution_count": 55,
   "id": "4b68049f-b29b-431a-ba64-71639cc36b3d",
   "metadata": {},
   "outputs": [
    {
     "data": {
      "text/plain": [
       "3"
      ]
     },
     "execution_count": 55,
     "metadata": {},
     "output_type": "execute_result"
    }
   ],
   "source": [
    "pqr.ndim"
   ]
  },
  {
   "cell_type": "code",
   "execution_count": 58,
   "id": "6d4b1051-5b77-4a81-b055-8bcfd20aa079",
   "metadata": {},
   "outputs": [
    {
     "data": {
      "text/plain": [
       "56"
      ]
     },
     "execution_count": 58,
     "metadata": {},
     "output_type": "execute_result"
    }
   ],
   "source": [
    "pqr[1][1][0]"
   ]
  },
  {
   "cell_type": "code",
   "execution_count": 59,
   "id": "d6632e1c-5c68-4cda-894a-683e82134d09",
   "metadata": {},
   "outputs": [
    {
     "data": {
      "text/plain": [
       "345"
      ]
     },
     "execution_count": 59,
     "metadata": {},
     "output_type": "execute_result"
    }
   ],
   "source": [
    "pqr[0][2][1]"
   ]
  },
  {
   "cell_type": "code",
   "execution_count": 60,
   "id": "a34c6c36-c359-4f89-bd3f-a676b527264d",
   "metadata": {},
   "outputs": [
    {
     "data": {
      "text/plain": [
       "2"
      ]
     },
     "execution_count": 60,
     "metadata": {},
     "output_type": "execute_result"
    }
   ],
   "source": [
    "pqr[1][2][2]"
   ]
  },
  {
   "cell_type": "code",
   "execution_count": null,
   "id": "b0b340df-ebfd-485a-9a72-be77ad3dd55f",
   "metadata": {},
   "outputs": [],
   "source": []
  },
  {
   "cell_type": "code",
   "execution_count": null,
   "id": "39b88b06-7f16-4528-9cc9-5cd917df64e5",
   "metadata": {},
   "outputs": [],
   "source": []
  },
  {
   "cell_type": "code",
   "execution_count": 61,
   "id": "58b8b093-187c-4de2-b2df-5de80b23e799",
   "metadata": {},
   "outputs": [],
   "source": [
    "# slicing::::::::::::::::::: with ndarray"
   ]
  },
  {
   "cell_type": "code",
   "execution_count": null,
   "id": "ee4d89ef-9365-4d17-ba07-21298ff1ea28",
   "metadata": {},
   "outputs": [],
   "source": [
    "objname[start : end : increment]"
   ]
  },
  {
   "cell_type": "code",
   "execution_count": null,
   "id": "fae8ad47-061d-43be-ade1-0ee692d9609e",
   "metadata": {},
   "outputs": [],
   "source": [
    "    # start ::: 0\n",
    "    # end ::: n - 1\n",
    "    # increment :: 1"
   ]
  },
  {
   "cell_type": "code",
   "execution_count": 62,
   "id": "a559ca72-74be-4f14-8fc6-8b0e908216c5",
   "metadata": {},
   "outputs": [],
   "source": [
    "# slicing with 1d ndarray"
   ]
  },
  {
   "cell_type": "code",
   "execution_count": 64,
   "id": "853ceede-19fd-4165-b5c2-b3a3df4c3d15",
   "metadata": {},
   "outputs": [],
   "source": [
    "qw = np.array([34, 23, 45, 23, 10, 9900, 78, 34, 12, 34])"
   ]
  },
  {
   "cell_type": "code",
   "execution_count": 66,
   "id": "c94174c1-e574-4969-a8a8-33f2b0fe913f",
   "metadata": {},
   "outputs": [
    {
     "data": {
      "text/plain": [
       "array([  45,   23,   10, 9900,   78,   34])"
      ]
     },
     "execution_count": 66,
     "metadata": {},
     "output_type": "execute_result"
    }
   ],
   "source": [
    "qw[2 : 8]"
   ]
  },
  {
   "cell_type": "code",
   "execution_count": null,
   "id": "38ca3fa1-bcb9-4720-afe9-8667aa6fd611",
   "metadata": {},
   "outputs": [],
   "source": []
  },
  {
   "cell_type": "code",
   "execution_count": 67,
   "id": "e158d666-dbbd-4ea3-96ef-02abf9adc684",
   "metadata": {},
   "outputs": [
    {
     "data": {
      "text/plain": [
       "array([9900,   78,   34,   12,   34])"
      ]
     },
     "execution_count": 67,
     "metadata": {},
     "output_type": "execute_result"
    }
   ],
   "source": [
    "qw[5 : ]"
   ]
  },
  {
   "cell_type": "code",
   "execution_count": 69,
   "id": "be3d9919-4e70-4707-a61e-ee64bd806831",
   "metadata": {},
   "outputs": [
    {
     "data": {
      "text/plain": [
       "array([10, 34])"
      ]
     },
     "execution_count": 69,
     "metadata": {},
     "output_type": "execute_result"
    }
   ],
   "source": [
    "qw[4 : 8 : 3]"
   ]
  },
  {
   "cell_type": "code",
   "execution_count": null,
   "id": "24d72297-47c0-4745-815e-55e0ba0041cc",
   "metadata": {},
   "outputs": [],
   "source": []
  },
  {
   "cell_type": "code",
   "execution_count": 70,
   "id": "4689b280-dcc6-4f66-b423-b9c8dc3732ba",
   "metadata": {},
   "outputs": [
    {
     "data": {
      "text/plain": [
       "array([  34,   23,   45,   23,   10, 9900,   78,   34,   12,   34])"
      ]
     },
     "execution_count": 70,
     "metadata": {},
     "output_type": "execute_result"
    }
   ],
   "source": [
    "qw"
   ]
  },
  {
   "cell_type": "code",
   "execution_count": 71,
   "id": "60c6a68b-eb23-4b5c-be9d-936ebbbaa187",
   "metadata": {},
   "outputs": [
    {
     "data": {
      "text/plain": [
       "array([  34,   12,   34,   78, 9900,   10,   23,   45,   23,   34])"
      ]
     },
     "execution_count": 71,
     "metadata": {},
     "output_type": "execute_result"
    }
   ],
   "source": [
    "qw[: : -1]"
   ]
  },
  {
   "cell_type": "code",
   "execution_count": null,
   "id": "09b4e887-51e4-4c70-87c9-99e151d422a0",
   "metadata": {},
   "outputs": [],
   "source": []
  },
  {
   "cell_type": "code",
   "execution_count": null,
   "id": "7adc5dcb-4bfb-4046-bf0f-58d7155b8b00",
   "metadata": {},
   "outputs": [],
   "source": []
  },
  {
   "cell_type": "code",
   "execution_count": 72,
   "id": "ab18b896-2448-4c8d-a72a-8d1b2d78e9bd",
   "metadata": {},
   "outputs": [],
   "source": [
    "# slicing with 2-d ndarray"
   ]
  },
  {
   "cell_type": "code",
   "execution_count": null,
   "id": "0eb70a06-9ff0-40e3-87e5-960d38c2e25c",
   "metadata": {},
   "outputs": [],
   "source": []
  },
  {
   "cell_type": "code",
   "execution_count": 73,
   "id": "7fea5758-68b7-4af4-9ac0-a18b3ef75672",
   "metadata": {},
   "outputs": [],
   "source": [
    "xyz = np.array([[12, 23, 45, 23, 67, 4, 100], [78, 45, 23, 12, 10, 78, 23]])"
   ]
  },
  {
   "cell_type": "code",
   "execution_count": 74,
   "id": "d1a77653-2262-4c2c-8579-dc4ffc6ee0e1",
   "metadata": {},
   "outputs": [
    {
     "data": {
      "text/plain": [
       "array([[ 12,  23,  45,  23,  67,   4, 100],\n",
       "       [ 78,  45,  23,  12,  10,  78,  23]])"
      ]
     },
     "execution_count": 74,
     "metadata": {},
     "output_type": "execute_result"
    }
   ],
   "source": [
    "xyz"
   ]
  },
  {
   "cell_type": "code",
   "execution_count": 76,
   "id": "ac8b5413-42ea-4313-94f6-1bb9caf9e8b9",
   "metadata": {},
   "outputs": [
    {
     "data": {
      "text/plain": [
       "array([45, 23, 12, 10, 78])"
      ]
     },
     "execution_count": 76,
     "metadata": {},
     "output_type": "execute_result"
    }
   ],
   "source": [
    "xyz[1][1 : 6]"
   ]
  },
  {
   "cell_type": "code",
   "execution_count": null,
   "id": "543ff35d-7e8b-477a-8c17-9301fbb89b57",
   "metadata": {},
   "outputs": [],
   "source": []
  },
  {
   "cell_type": "code",
   "execution_count": null,
   "id": "a2e1c7b8-1050-481d-af0d-b84fc9d0250d",
   "metadata": {},
   "outputs": [],
   "source": [
    "ndarray\n",
    "ndim --- attribues\n",
    "slicig\n",
    "indexing\n",
    "1-d array\n",
    "2-d array\n",
    "3-d ndarray"
   ]
  },
  {
   "cell_type": "code",
   "execution_count": null,
   "id": "e1a65eae-333e-4ae4-9e66-1cdcfb19d7f0",
   "metadata": {},
   "outputs": [],
   "source": []
  },
  {
   "cell_type": "code",
   "execution_count": 77,
   "id": "180bb550-0959-4e31-865a-75055a0f728e",
   "metadata": {},
   "outputs": [],
   "source": [
    "# ndarray ---> mutablee..."
   ]
  },
  {
   "cell_type": "code",
   "execution_count": 79,
   "id": "b7a8f27b-e61d-48da-b5fa-b4d2a761894d",
   "metadata": {},
   "outputs": [],
   "source": [
    "xyz = np.array([12, 100, 67, 78, 29, 100, 90, 688, 90, 128])"
   ]
  },
  {
   "cell_type": "code",
   "execution_count": null,
   "id": "fd3a764f-099d-4c5e-9267-0273f6bda5fc",
   "metadata": {},
   "outputs": [],
   "source": []
  },
  {
   "cell_type": "code",
   "execution_count": null,
   "id": "7a753634-a5af-4e35-b5a5-96e193413e8d",
   "metadata": {},
   "outputs": [],
   "source": [
    "# replacing elements ::::::::::: "
   ]
  },
  {
   "cell_type": "code",
   "execution_count": 80,
   "id": "7d5191b5-e280-46db-bfd1-8e63e17cd1d5",
   "metadata": {},
   "outputs": [
    {
     "data": {
      "text/plain": [
       "array([ 12, 100,  67,  78,  29, 100,  90, 688,  90, 128])"
      ]
     },
     "execution_count": 80,
     "metadata": {},
     "output_type": "execute_result"
    }
   ],
   "source": [
    "xyz"
   ]
  },
  {
   "cell_type": "code",
   "execution_count": 81,
   "id": "827dec9b-d14f-422c-9173-a7023e337256",
   "metadata": {},
   "outputs": [],
   "source": [
    "# objname[indexnumber] = newitem"
   ]
  },
  {
   "cell_type": "code",
   "execution_count": 82,
   "id": "fc7b71ee-8728-4322-8a32-a4eb9731ee05",
   "metadata": {},
   "outputs": [],
   "source": [
    "xyz[-4] = 17"
   ]
  },
  {
   "cell_type": "code",
   "execution_count": 83,
   "id": "967c2889-8eb7-4a7a-95bc-bb9d4348d874",
   "metadata": {},
   "outputs": [
    {
     "data": {
      "text/plain": [
       "array([ 12, 100,  67,  78,  29, 100,  17, 688,  90, 128])"
      ]
     },
     "execution_count": 83,
     "metadata": {},
     "output_type": "execute_result"
    }
   ],
   "source": [
    "xyz"
   ]
  },
  {
   "cell_type": "code",
   "execution_count": 84,
   "id": "8e6cf31a-48ec-48dd-9adb-01fcb9509879",
   "metadata": {},
   "outputs": [],
   "source": [
    "xyz[3] = 700"
   ]
  },
  {
   "cell_type": "code",
   "execution_count": 85,
   "id": "6674b232-c1c4-49cb-beaa-30dc35b548aa",
   "metadata": {},
   "outputs": [
    {
     "data": {
      "text/plain": [
       "array([ 12, 100,  67, 700,  29, 100,  17, 688,  90, 128])"
      ]
     },
     "execution_count": 85,
     "metadata": {},
     "output_type": "execute_result"
    }
   ],
   "source": [
    "xyz"
   ]
  },
  {
   "cell_type": "code",
   "execution_count": null,
   "id": "8501b5e0-4e21-4d89-bfee-58ce3e3bdf32",
   "metadata": {},
   "outputs": [],
   "source": []
  },
  {
   "cell_type": "code",
   "execution_count": null,
   "id": "c0dc906b-a8f8-432f-b828-9607295e8e87",
   "metadata": {},
   "outputs": [],
   "source": []
  },
  {
   "cell_type": "code",
   "execution_count": null,
   "id": "2301ed29-ff2d-43d7-9ffe-3a9ee0f16dc2",
   "metadata": {},
   "outputs": [],
   "source": []
  },
  {
   "cell_type": "code",
   "execution_count": 86,
   "id": "18dcd280-fead-4d83-b0f0-653a52e9f54e",
   "metadata": {},
   "outputs": [],
   "source": [
    "pqr = np.array([[[12, 34, 10], [34, 23, 10], [23, 345, 10]], [[34, 23, 45], [56, 23, 12], [34, 23, 2]]])"
   ]
  },
  {
   "cell_type": "code",
   "execution_count": 87,
   "id": "c844d218-9718-4685-8004-b5e2146ff512",
   "metadata": {},
   "outputs": [
    {
     "data": {
      "text/plain": [
       "23"
      ]
     },
     "execution_count": 87,
     "metadata": {},
     "output_type": "execute_result"
    }
   ],
   "source": [
    "pqr[1][1][1]"
   ]
  },
  {
   "cell_type": "code",
   "execution_count": 90,
   "id": "b6582fca-1cd8-460f-8baa-e4145df70ed3",
   "metadata": {},
   "outputs": [
    {
     "data": {
      "text/plain": [
       "2"
      ]
     },
     "execution_count": 90,
     "metadata": {},
     "output_type": "execute_result"
    }
   ],
   "source": [
    "pqr[1][2][2]"
   ]
  },
  {
   "cell_type": "code",
   "execution_count": 92,
   "id": "11a3f3cb-8ef6-49ce-870a-9087328ed1e1",
   "metadata": {},
   "outputs": [
    {
     "data": {
      "text/plain": [
       "345"
      ]
     },
     "execution_count": 92,
     "metadata": {},
     "output_type": "execute_result"
    }
   ],
   "source": [
    "pqr[0][2][1]"
   ]
  },
  {
   "cell_type": "code",
   "execution_count": null,
   "id": "9f0ea5a5-143c-43b7-8315-ff98302869cb",
   "metadata": {},
   "outputs": [],
   "source": []
  },
  {
   "cell_type": "code",
   "execution_count": null,
   "id": "da33a4c8-4f39-4df1-9d54-52c2b911a180",
   "metadata": {},
   "outputs": [],
   "source": []
  },
  {
   "cell_type": "code",
   "execution_count": null,
   "id": "b75c6bbf-0dfd-4943-a0ff-1b8cc038e9a0",
   "metadata": {},
   "outputs": [],
   "source": []
  },
  {
   "cell_type": "markdown",
   "id": "4f003792-587a-437f-bcd8-c4d3a22aeee2",
   "metadata": {},
   "source": [
    "## elemets add krne hai"
   ]
  },
  {
   "cell_type": "code",
   "execution_count": 93,
   "id": "41725f87-8cab-4653-907d-faf43c71ad07",
   "metadata": {},
   "outputs": [],
   "source": [
    "# append()"
   ]
  },
  {
   "cell_type": "code",
   "execution_count": 94,
   "id": "9fa74c0f-180c-4cc7-9b37-afb28199a996",
   "metadata": {},
   "outputs": [],
   "source": [
    "xyz = np.array([34, 23, 56, 34, 100, 78])"
   ]
  },
  {
   "cell_type": "code",
   "execution_count": null,
   "id": "4f935d36-cae6-44bf-b31e-391d86b1ab81",
   "metadata": {},
   "outputs": [],
   "source": []
  },
  {
   "cell_type": "code",
   "execution_count": 95,
   "id": "53c8f12d-bdcb-4fd9-bf8e-bf37d240d467",
   "metadata": {},
   "outputs": [],
   "source": [
    "# np.append(objname, elementname)"
   ]
  },
  {
   "cell_type": "code",
   "execution_count": 98,
   "id": "7c9c7d6c-6944-4f84-a385-8b687bbdc25e",
   "metadata": {},
   "outputs": [],
   "source": [
    "x = np.append(xyz, 3000)"
   ]
  },
  {
   "cell_type": "code",
   "execution_count": 97,
   "id": "e1394694-89b4-4b07-a8dd-b62e74a73fb9",
   "metadata": {},
   "outputs": [
    {
     "data": {
      "text/plain": [
       "array([ 34,  23,  56,  34, 100,  78])"
      ]
     },
     "execution_count": 97,
     "metadata": {},
     "output_type": "execute_result"
    }
   ],
   "source": [
    "xyz"
   ]
  },
  {
   "cell_type": "code",
   "execution_count": 99,
   "id": "08d75b15-5bd8-43e3-a135-54515926173a",
   "metadata": {},
   "outputs": [
    {
     "data": {
      "text/plain": [
       "array([  34,   23,   56,   34,  100,   78, 3000])"
      ]
     },
     "execution_count": 99,
     "metadata": {},
     "output_type": "execute_result"
    }
   ],
   "source": [
    "x"
   ]
  },
  {
   "cell_type": "code",
   "execution_count": null,
   "id": "9a294adf-4569-4587-bc84-91156dee9cd2",
   "metadata": {},
   "outputs": [],
   "source": []
  },
  {
   "cell_type": "code",
   "execution_count": 100,
   "id": "a0621eac-4b3a-438e-b230-ba09eeb20eca",
   "metadata": {},
   "outputs": [],
   "source": [
    "# insert()"
   ]
  },
  {
   "cell_type": "code",
   "execution_count": 101,
   "id": "aa4036e0-bd7a-4f71-b456-d965e1bc820b",
   "metadata": {},
   "outputs": [],
   "source": [
    "# np.insert(objname, indexnumber,  item)"
   ]
  },
  {
   "cell_type": "code",
   "execution_count": 102,
   "id": "facad571-7bf6-4173-9e55-70b5d8f0405d",
   "metadata": {},
   "outputs": [
    {
     "data": {
      "text/plain": [
       "array([  34,   23,   56,   34,  100,   78, 3000])"
      ]
     },
     "execution_count": 102,
     "metadata": {},
     "output_type": "execute_result"
    }
   ],
   "source": [
    "x"
   ]
  },
  {
   "cell_type": "code",
   "execution_count": 103,
   "id": "17a8e418-b28a-449a-8172-adebe9bdb28c",
   "metadata": {},
   "outputs": [
    {
     "data": {
      "text/plain": [
       "array([  34,   90,   23,   56,   34,  100,   78, 3000])"
      ]
     },
     "execution_count": 103,
     "metadata": {},
     "output_type": "execute_result"
    }
   ],
   "source": [
    "np.insert(x, 1, 90)"
   ]
  },
  {
   "cell_type": "code",
   "execution_count": null,
   "id": "c8636957-01ec-4979-9e37-c6b035fcb26f",
   "metadata": {},
   "outputs": [],
   "source": []
  },
  {
   "cell_type": "code",
   "execution_count": null,
   "id": "ffd88ba9-298e-4842-8f0e-e48f4bec7d30",
   "metadata": {},
   "outputs": [],
   "source": [
    "6 5 4\n",
    "_ 3 2\n",
    "_ _ 1"
   ]
  },
  {
   "cell_type": "code",
   "execution_count": null,
   "id": "369a183d-d0e0-4834-ab90-34453ce6c037",
   "metadata": {},
   "outputs": [],
   "source": []
  },
  {
   "cell_type": "code",
   "execution_count": 104,
   "id": "8b51e0f1-5913-47c5-8cbe-570bb22092b6",
   "metadata": {},
   "outputs": [
    {
     "data": {
      "text/plain": [
       "array([  34,   23,   56,   34,  100,   78, 3000])"
      ]
     },
     "execution_count": 104,
     "metadata": {},
     "output_type": "execute_result"
    }
   ],
   "source": [
    "x"
   ]
  },
  {
   "cell_type": "code",
   "execution_count": 105,
   "id": "74eab418-2399-4b2b-9aa0-9791644dcdc7",
   "metadata": {},
   "outputs": [],
   "source": [
    "indexin = [1, 4, 5]\n",
    "elemts = [1000, 2000, 300]"
   ]
  },
  {
   "cell_type": "code",
   "execution_count": 106,
   "id": "c3c234f6-7ec9-4e09-8ea3-362b43760152",
   "metadata": {},
   "outputs": [
    {
     "data": {
      "text/plain": [
       "array([  34, 1000,   23,   56,   34, 2000,  100,  300,   78, 3000])"
      ]
     },
     "execution_count": 106,
     "metadata": {},
     "output_type": "execute_result"
    }
   ],
   "source": [
    "np.insert(x, indexin, elemts)"
   ]
  },
  {
   "cell_type": "code",
   "execution_count": null,
   "id": "f14eabca-4be5-4621-8f2f-d0440848ed73",
   "metadata": {},
   "outputs": [],
   "source": []
  },
  {
   "cell_type": "code",
   "execution_count": 107,
   "id": "6455af4a-3a6d-46bf-8766-e1289cf6f90b",
   "metadata": {},
   "outputs": [],
   "source": [
    "# ndim -->"
   ]
  },
  {
   "cell_type": "code",
   "execution_count": 108,
   "id": "f2831f81-a880-4fa7-bde3-8bed3647082f",
   "metadata": {},
   "outputs": [],
   "source": [
    "# where()\n",
    "    # it returns index numbers......"
   ]
  },
  {
   "cell_type": "code",
   "execution_count": 109,
   "id": "ac6a5275-3520-48c3-94c8-60144f6e5968",
   "metadata": {},
   "outputs": [],
   "source": [
    "x = np.array([12, 34, 5, 2, 4, 12, 12, 78, 45, 12, 67, 10, 89, 12])"
   ]
  },
  {
   "cell_type": "code",
   "execution_count": 111,
   "id": "39e4fc2f-d8f9-4d19-9308-643544ad0b82",
   "metadata": {},
   "outputs": [
    {
     "data": {
      "text/plain": [
       "(array([ 0,  5,  6,  9, 13], dtype=int64),)"
      ]
     },
     "execution_count": 111,
     "metadata": {},
     "output_type": "execute_result"
    }
   ],
   "source": [
    "np.where(x == 12)"
   ]
  },
  {
   "cell_type": "code",
   "execution_count": null,
   "id": "eca97c9a-588c-4587-8837-ba123fff7015",
   "metadata": {},
   "outputs": [],
   "source": []
  },
  {
   "cell_type": "code",
   "execution_count": 113,
   "id": "d479df9b-b701-4480-810e-1fc3aca0fd46",
   "metadata": {},
   "outputs": [
    {
     "name": "stdout",
     "output_type": "stream",
     "text": [
      "Help on built-in function arange in module numpy:\n",
      "\n",
      "arange(...)\n",
      "    arange([start,] stop[, step,], dtype=None, *, like=None)\n",
      "\n",
      "    Return evenly spaced values within a given interval.\n",
      "\n",
      "    ``arange`` can be called with a varying number of positional arguments:\n",
      "\n",
      "    * ``arange(stop)``: Values are generated within the half-open interval\n",
      "      ``[0, stop)`` (in other words, the interval including `start` but\n",
      "      excluding `stop`).\n",
      "    * ``arange(start, stop)``: Values are generated within the half-open\n",
      "      interval ``[start, stop)``.\n",
      "    * ``arange(start, stop, step)`` Values are generated within the half-open\n",
      "      interval ``[start, stop)``, with spacing between values given by\n",
      "      ``step``.\n",
      "\n",
      "    For integer arguments the function is roughly equivalent to the Python\n",
      "    built-in :py:class:`range`, but returns an ndarray rather than a ``range``\n",
      "    instance.\n",
      "\n",
      "    When using a non-integer step, such as 0.1, it is often better to use\n",
      "    `numpy.linspace`.\n",
      "\n",
      "    See the Warning sections below for more information.\n",
      "\n",
      "    Parameters\n",
      "    ----------\n",
      "    start : integer or real, optional\n",
      "        Start of interval.  The interval includes this value.  The default\n",
      "        start value is 0.\n",
      "    stop : integer or real\n",
      "        End of interval.  The interval does not include this value, except\n",
      "        in some cases where `step` is not an integer and floating point\n",
      "        round-off affects the length of `out`.\n",
      "    step : integer or real, optional\n",
      "        Spacing between values.  For any output `out`, this is the distance\n",
      "        between two adjacent values, ``out[i+1] - out[i]``.  The default\n",
      "        step size is 1.  If `step` is specified as a position argument,\n",
      "        `start` must also be given.\n",
      "    dtype : dtype, optional\n",
      "        The type of the output array.  If `dtype` is not given, infer the data\n",
      "        type from the other input arguments.\n",
      "    like : array_like, optional\n",
      "        Reference object to allow the creation of arrays which are not\n",
      "        NumPy arrays. If an array-like passed in as ``like`` supports\n",
      "        the ``__array_function__`` protocol, the result will be defined\n",
      "        by it. In this case, it ensures the creation of an array object\n",
      "        compatible with that passed in via this argument.\n",
      "\n",
      "        .. versionadded:: 1.20.0\n",
      "\n",
      "    Returns\n",
      "    -------\n",
      "    arange : ndarray\n",
      "        Array of evenly spaced values.\n",
      "\n",
      "        For floating point arguments, the length of the result is\n",
      "        ``ceil((stop - start)/step)``.  Because of floating point overflow,\n",
      "        this rule may result in the last element of `out` being greater\n",
      "        than `stop`.\n",
      "\n",
      "    Warnings\n",
      "    --------\n",
      "    The length of the output might not be numerically stable.\n",
      "\n",
      "    Another stability issue is due to the internal implementation of\n",
      "    `numpy.arange`.\n",
      "    The actual step value used to populate the array is\n",
      "    ``dtype(start + step) - dtype(start)`` and not `step`. Precision loss\n",
      "    can occur here, due to casting or due to using floating points when\n",
      "    `start` is much larger than `step`. This can lead to unexpected\n",
      "    behaviour. For example::\n",
      "\n",
      "      >>> np.arange(0, 5, 0.5, dtype=int)\n",
      "      array([0, 0, 0, 0, 0, 0, 0, 0, 0, 0])\n",
      "      >>> np.arange(-3, 3, 0.5, dtype=int)\n",
      "      array([-3, -2, -1,  0,  1,  2,  3,  4,  5,  6,  7,  8])\n",
      "\n",
      "    In such cases, the use of `numpy.linspace` should be preferred.\n",
      "\n",
      "    The built-in :py:class:`range` generates :std:doc:`Python built-in integers\n",
      "    that have arbitrary size <python:c-api/long>`, while `numpy.arange`\n",
      "    produces `numpy.int32` or `numpy.int64` numbers. This may result in\n",
      "    incorrect results for large integer values::\n",
      "\n",
      "      >>> power = 40\n",
      "      >>> modulo = 10000\n",
      "      >>> x1 = [(n ** power) % modulo for n in range(8)]\n",
      "      >>> x2 = [(n ** power) % modulo for n in np.arange(8)]\n",
      "      >>> print(x1)\n",
      "      [0, 1, 7776, 8801, 6176, 625, 6576, 4001]  # correct\n",
      "      >>> print(x2)\n",
      "      [0, 1, 7776, 7185, 0, 5969, 4816, 3361]  # incorrect\n",
      "\n",
      "    See Also\n",
      "    --------\n",
      "    numpy.linspace : Evenly spaced numbers with careful handling of endpoints.\n",
      "    numpy.ogrid: Arrays of evenly spaced numbers in N-dimensions.\n",
      "    numpy.mgrid: Grid-shaped arrays of evenly spaced numbers in N-dimensions.\n",
      "    :ref:`how-to-partition`\n",
      "\n",
      "    Examples\n",
      "    --------\n",
      "    >>> np.arange(3)\n",
      "    array([0, 1, 2])\n",
      "    >>> np.arange(3.0)\n",
      "    array([ 0.,  1.,  2.])\n",
      "    >>> np.arange(3,7)\n",
      "    array([3, 4, 5, 6])\n",
      "    >>> np.arange(3,7,2)\n",
      "    array([3, 5])\n",
      "\n"
     ]
    }
   ],
   "source": [
    "help(np.arange)"
   ]
  },
  {
   "cell_type": "code",
   "execution_count": 116,
   "id": "44af07c4-456c-4c12-913a-a7cd8079cdc8",
   "metadata": {},
   "outputs": [
    {
     "name": "stdout",
     "output_type": "stream",
     "text": [
      "Help on method raw_input in module ipykernel.kernelbase:\n",
      "\n",
      "raw_input(prompt='') method of ipykernel.ipkernel.IPythonKernel instance\n",
      "    Forward raw_input to frontends\n",
      "\n",
      "    Raises\n",
      "    ------\n",
      "    StdinNotImplementedError if active frontend doesn't support stdin.\n",
      "\n"
     ]
    }
   ],
   "source": [
    "help(input)"
   ]
  },
  {
   "cell_type": "code",
   "execution_count": null,
   "id": "db5acb85-f7e1-469e-bbf0-da52e66627e1",
   "metadata": {},
   "outputs": [],
   "source": []
  },
  {
   "cell_type": "code",
   "execution_count": 117,
   "id": "6bc6e390-e24c-4386-a2dd-3fb0c52dc4a8",
   "metadata": {},
   "outputs": [],
   "source": [
    "# arange() "
   ]
  },
  {
   "cell_type": "code",
   "execution_count": null,
   "id": "bbc0041e-c9c7-4d65-a68a-2a6e3da38ada",
   "metadata": {},
   "outputs": [],
   "source": [
    "# arange(start, end, increment)"
   ]
  },
  {
   "cell_type": "code",
   "execution_count": 120,
   "id": "cf3aedf6-e512-467c-8578-406019176e7c",
   "metadata": {},
   "outputs": [],
   "source": [
    "zx = np.arange(1, 31, 2)"
   ]
  },
  {
   "cell_type": "code",
   "execution_count": 121,
   "id": "9d4ffca8-e1f1-424b-861e-67375371615b",
   "metadata": {},
   "outputs": [
    {
     "data": {
      "text/plain": [
       "array([ 1,  3,  5,  7,  9, 11, 13, 15, 17, 19, 21, 23, 25, 27, 29])"
      ]
     },
     "execution_count": 121,
     "metadata": {},
     "output_type": "execute_result"
    }
   ],
   "source": [
    "zx"
   ]
  },
  {
   "cell_type": "code",
   "execution_count": null,
   "id": "5c2313dc-e784-4f35-a193-6086e8889df6",
   "metadata": {},
   "outputs": [],
   "source": []
  },
  {
   "cell_type": "code",
   "execution_count": null,
   "id": "62703362-90ac-42a1-aec4-0418a8ba5298",
   "metadata": {},
   "outputs": [],
   "source": []
  },
  {
   "cell_type": "code",
   "execution_count": 122,
   "id": "4aa62d64-3ffb-44a1-836e-63f035f7084c",
   "metadata": {},
   "outputs": [],
   "source": [
    "# sort() --->"
   ]
  },
  {
   "cell_type": "code",
   "execution_count": 123,
   "id": "ec0d84ff-c9a1-496b-be2d-74fa4c77f682",
   "metadata": {},
   "outputs": [],
   "source": [
    "x = np.array([12, 34, 23, 12, 56, 3, 8, 3, 1, 56, 23])"
   ]
  },
  {
   "cell_type": "code",
   "execution_count": 124,
   "id": "0d12005d-d569-4690-9d04-0a7d8487186e",
   "metadata": {},
   "outputs": [
    {
     "data": {
      "text/plain": [
       "array([ 1,  3,  3,  8, 12, 12, 23, 23, 34, 56, 56])"
      ]
     },
     "execution_count": 124,
     "metadata": {},
     "output_type": "execute_result"
    }
   ],
   "source": [
    "np.sort(x)"
   ]
  },
  {
   "cell_type": "code",
   "execution_count": null,
   "id": "051eae27-f443-49cb-8662-ae1a0025d5d0",
   "metadata": {},
   "outputs": [],
   "source": []
  },
  {
   "cell_type": "code",
   "execution_count": null,
   "id": "f3783abc-1b9f-4e69-bcab-ea1057a6c565",
   "metadata": {},
   "outputs": [],
   "source": []
  },
  {
   "cell_type": "code",
   "execution_count": 125,
   "id": "2f34fdb4-80c3-4e60-858f-208c2e3a8ca1",
   "metadata": {},
   "outputs": [],
   "source": [
    "# unique() => help us to get unique data..."
   ]
  },
  {
   "cell_type": "code",
   "execution_count": 126,
   "id": "80238e46-6080-4b75-869b-d8472a2994c9",
   "metadata": {},
   "outputs": [],
   "source": [
    "xyz = np.array([23, 45, 223, 12, 45, 67, 12, 23, 23, 12, 45, 67, 23, 100])"
   ]
  },
  {
   "cell_type": "code",
   "execution_count": null,
   "id": "49dbe4a9-ae9a-45a2-9aba-19d2bb21ee9e",
   "metadata": {},
   "outputs": [],
   "source": []
  },
  {
   "cell_type": "code",
   "execution_count": 127,
   "id": "280e1d5a-a2a4-436b-b7e4-48a1bbdbcd30",
   "metadata": {},
   "outputs": [
    {
     "data": {
      "text/plain": [
       "array([ 12,  23,  45,  67, 100, 223])"
      ]
     },
     "execution_count": 127,
     "metadata": {},
     "output_type": "execute_result"
    }
   ],
   "source": [
    "np.unique(xyz)"
   ]
  },
  {
   "cell_type": "code",
   "execution_count": null,
   "id": "f67496b1-a8e7-4cdd-a1d5-5e90a5e7697b",
   "metadata": {},
   "outputs": [],
   "source": []
  },
  {
   "cell_type": "code",
   "execution_count": null,
   "id": "6a0b3a0a-6039-4ba7-a1df-aff788256263",
   "metadata": {},
   "outputs": [],
   "source": []
  },
  {
   "cell_type": "code",
   "execution_count": 128,
   "id": "5eb33ad1-8b9c-4c39-aa8f-566c58d40a87",
   "metadata": {},
   "outputs": [],
   "source": [
    "# concatenate() -> "
   ]
  },
  {
   "cell_type": "code",
   "execution_count": 129,
   "id": "ade42ee4-6db5-4584-b55b-96a058ba5b70",
   "metadata": {},
   "outputs": [],
   "source": [
    "x = np.array([12, 34, 23, 45])"
   ]
  },
  {
   "cell_type": "code",
   "execution_count": 130,
   "id": "a4eb6c10-82bf-4bb8-a259-f8dcd936a240",
   "metadata": {},
   "outputs": [],
   "source": [
    "y = np.array([56, 34, 23, 100])"
   ]
  },
  {
   "cell_type": "code",
   "execution_count": null,
   "id": "a146c411-48ff-41b3-b267-646a9d98d16b",
   "metadata": {},
   "outputs": [],
   "source": []
  },
  {
   "cell_type": "code",
   "execution_count": 133,
   "id": "bc27a980-fff6-40f1-b851-315fd39e8729",
   "metadata": {},
   "outputs": [],
   "source": [
    "xu = np.concatenate((x, y))"
   ]
  },
  {
   "cell_type": "code",
   "execution_count": 134,
   "id": "a31b92e4-7682-4f39-abf2-0a3813f91201",
   "metadata": {},
   "outputs": [
    {
     "data": {
      "text/plain": [
       "array([ 12,  34,  23,  45,  56,  34,  23, 100])"
      ]
     },
     "execution_count": 134,
     "metadata": {},
     "output_type": "execute_result"
    }
   ],
   "source": [
    "xu"
   ]
  },
  {
   "cell_type": "code",
   "execution_count": null,
   "id": "c26f8b55-ff6a-4c5c-b82a-f626b3421fd8",
   "metadata": {},
   "outputs": [],
   "source": []
  },
  {
   "cell_type": "code",
   "execution_count": 135,
   "id": "cbc7a51b-e096-44a0-94fe-57a453785ff8",
   "metadata": {},
   "outputs": [],
   "source": [
    "# vstack()"
   ]
  },
  {
   "cell_type": "code",
   "execution_count": 137,
   "id": "fc63670f-d70c-49d6-ab6a-4592dd7190ee",
   "metadata": {},
   "outputs": [
    {
     "data": {
      "text/plain": [
       "array([[ 12,  34,  23,  45],\n",
       "       [ 56,  34,  23, 100]])"
      ]
     },
     "execution_count": 137,
     "metadata": {},
     "output_type": "execute_result"
    }
   ],
   "source": [
    "np.vstack((x, y))"
   ]
  },
  {
   "cell_type": "code",
   "execution_count": null,
   "id": "6ac9768a-5bb6-4bd2-8db7-501bfbb01134",
   "metadata": {},
   "outputs": [],
   "source": []
  },
  {
   "cell_type": "code",
   "execution_count": null,
   "id": "f094d421-6703-4842-9ba4-b3b7008aa9ae",
   "metadata": {},
   "outputs": [],
   "source": [
    "where()\n",
    "sort()\n",
    "arange()\n",
    "concatenate()\n",
    "vstack()\n",
    "unique()\n",
    "\n",
    "\n",
    "\n",
    "panding:\n",
    "        reshape()\n",
    "        random module"
   ]
  },
  {
   "cell_type": "code",
   "execution_count": null,
   "id": "a323ab71-ad2a-482b-8e39-14f6c4b49566",
   "metadata": {},
   "outputs": [],
   "source": [
    "numpy\n",
    "\n",
    "pandas"
   ]
  }
 ],
 "metadata": {
  "kernelspec": {
   "display_name": "Python 3 (ipykernel)",
   "language": "python",
   "name": "python3"
  },
  "language_info": {
   "codemirror_mode": {
    "name": "ipython",
    "version": 3
   },
   "file_extension": ".py",
   "mimetype": "text/x-python",
   "name": "python",
   "nbconvert_exporter": "python",
   "pygments_lexer": "ipython3",
   "version": "3.12.0"
  }
 },
 "nbformat": 4,
 "nbformat_minor": 5
}
