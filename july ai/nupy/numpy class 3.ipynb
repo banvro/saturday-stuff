{
 "cells": [
  {
   "cell_type": "code",
   "execution_count": 1,
   "id": "26bafe9a-c48c-4277-a2d7-b1519b2691db",
   "metadata": {},
   "outputs": [],
   "source": [
    "# Numpy:"
   ]
  },
  {
   "cell_type": "code",
   "execution_count": 2,
   "id": "c691b6cd-1532-4529-b27d-acdb5d57c4ef",
   "metadata": {},
   "outputs": [],
   "source": [
    "# Random ---> Numpy\n",
    "\n",
    "# Random ---> python"
   ]
  },
  {
   "cell_type": "code",
   "execution_count": 3,
   "id": "6d55e7d9-e017-4e0e-98a4-15e0bc881f77",
   "metadata": {},
   "outputs": [],
   "source": [
    "# python  --> import random\n",
    "\n",
    "# numpy\n",
    "\n",
    "from numpy import random"
   ]
  },
  {
   "cell_type": "code",
   "execution_count": null,
   "id": "56a69bd9-9ad3-42bf-84cb-df032dd099cd",
   "metadata": {},
   "outputs": [],
   "source": []
  },
  {
   "cell_type": "code",
   "execution_count": null,
   "id": "644b3dec-5ea7-4e3e-b65a-05bf92a815d3",
   "metadata": {},
   "outputs": [],
   "source": [
    "randint() ---->\n",
    "    # randint help to get a single element randomly within the range of given perameters"
   ]
  },
  {
   "cell_type": "code",
   "execution_count": null,
   "id": "cb455344-c11a-45cc-a664-3c8f67699c6f",
   "metadata": {},
   "outputs": [],
   "source": []
  },
  {
   "cell_type": "code",
   "execution_count": 7,
   "id": "a24cf914-de61-4bee-9714-6d79d4accad6",
   "metadata": {},
   "outputs": [
    {
     "data": {
      "text/plain": [
       "18"
      ]
     },
     "execution_count": 7,
     "metadata": {},
     "output_type": "execute_result"
    }
   ],
   "source": [
    "random.randint(10, 20)"
   ]
  },
  {
   "cell_type": "code",
   "execution_count": 10,
   "id": "21c2ed04-eb23-44c7-a941-ed1b4e5d806e",
   "metadata": {},
   "outputs": [
    {
     "data": {
      "text/plain": [
       "387025293"
      ]
     },
     "execution_count": 10,
     "metadata": {},
     "output_type": "execute_result"
    }
   ],
   "source": [
    "random.randint(100000, 2012121212)"
   ]
  },
  {
   "cell_type": "code",
   "execution_count": null,
   "id": "22d31b80-4cd7-4fd1-8062-3853e4459145",
   "metadata": {},
   "outputs": [],
   "source": []
  },
  {
   "cell_type": "code",
   "execution_count": 12,
   "id": "79f173a2-b54e-4b89-a26c-9727883baabb",
   "metadata": {},
   "outputs": [
    {
     "data": {
      "text/plain": [
       "17"
      ]
     },
     "execution_count": 12,
     "metadata": {},
     "output_type": "execute_result"
    }
   ],
   "source": [
    "random.randint(10, 20)"
   ]
  },
  {
   "cell_type": "code",
   "execution_count": null,
   "id": "2a66e4f6-3af1-4c82-8b03-83fa40d883cf",
   "metadata": {},
   "outputs": [],
   "source": []
  },
  {
   "cell_type": "code",
   "execution_count": 17,
   "id": "1c977889-ea9c-4be4-947f-15b961d6b0ad",
   "metadata": {},
   "outputs": [],
   "source": [
    "xyz = random.randint(4, 9, size = 10)"
   ]
  },
  {
   "cell_type": "code",
   "execution_count": 18,
   "id": "1f128f27-aebd-4ecc-808a-a52e8afdfd1a",
   "metadata": {},
   "outputs": [
    {
     "data": {
      "text/plain": [
       "array([4, 8, 6, 4, 6, 5, 7, 4, 6, 4])"
      ]
     },
     "execution_count": 18,
     "metadata": {},
     "output_type": "execute_result"
    }
   ],
   "source": [
    "xyz"
   ]
  },
  {
   "cell_type": "code",
   "execution_count": 19,
   "id": "fd91902f-b797-4d05-b2e1-eff4f0be92c2",
   "metadata": {},
   "outputs": [
    {
     "data": {
      "text/plain": [
       "1"
      ]
     },
     "execution_count": 19,
     "metadata": {},
     "output_type": "execute_result"
    }
   ],
   "source": [
    "xyz.ndim"
   ]
  },
  {
   "cell_type": "code",
   "execution_count": null,
   "id": "1d7e37c1-98aa-4f38-9c90-18801b26d446",
   "metadata": {},
   "outputs": [],
   "source": []
  },
  {
   "cell_type": "code",
   "execution_count": 20,
   "id": "2cab276b-04a7-4beb-879e-ffe279ed20ad",
   "metadata": {},
   "outputs": [],
   "source": [
    "xyz = random.randint(20, 50, size = (3, 4))"
   ]
  },
  {
   "cell_type": "code",
   "execution_count": 21,
   "id": "91207932-5d08-4934-8354-09180c7ac1ba",
   "metadata": {},
   "outputs": [
    {
     "data": {
      "text/plain": [
       "array([[39, 35, 42, 29],\n",
       "       [24, 41, 23, 28],\n",
       "       [41, 33, 47, 43]])"
      ]
     },
     "execution_count": 21,
     "metadata": {},
     "output_type": "execute_result"
    }
   ],
   "source": [
    "xyz"
   ]
  },
  {
   "cell_type": "code",
   "execution_count": null,
   "id": "e36deb23-9a6a-4681-a302-38a18c0a6e98",
   "metadata": {},
   "outputs": [],
   "source": []
  },
  {
   "cell_type": "code",
   "execution_count": 22,
   "id": "534c1837-a639-4769-b6d6-586039135e73",
   "metadata": {},
   "outputs": [],
   "source": [
    "xyz = random.randint(20, 50, size = (3, 4, 4))"
   ]
  },
  {
   "cell_type": "code",
   "execution_count": 23,
   "id": "1b662066-4e60-4621-9ac2-f47d6ba44acc",
   "metadata": {},
   "outputs": [
    {
     "data": {
      "text/plain": [
       "array([[[26, 32, 42, 30],\n",
       "        [21, 43, 44, 24],\n",
       "        [20, 43, 26, 24],\n",
       "        [44, 44, 48, 30]],\n",
       "\n",
       "       [[34, 36, 30, 23],\n",
       "        [30, 27, 21, 31],\n",
       "        [24, 35, 35, 40],\n",
       "        [46, 29, 25, 37]],\n",
       "\n",
       "       [[32, 29, 24, 26],\n",
       "        [33, 49, 43, 47],\n",
       "        [25, 46, 20, 24],\n",
       "        [37, 46, 26, 34]]])"
      ]
     },
     "execution_count": 23,
     "metadata": {},
     "output_type": "execute_result"
    }
   ],
   "source": [
    "xyz"
   ]
  },
  {
   "cell_type": "code",
   "execution_count": null,
   "id": "7096b126-21cc-4562-a2d9-8db3735d8326",
   "metadata": {},
   "outputs": [],
   "source": []
  },
  {
   "cell_type": "code",
   "execution_count": null,
   "id": "b39233e8-ea2f-4312-bc6f-caf1b04c305c",
   "metadata": {},
   "outputs": [],
   "source": []
  },
  {
   "cell_type": "code",
   "execution_count": null,
   "id": "27181a04-76b9-44be-899f-4913772d52c2",
   "metadata": {},
   "outputs": [],
   "source": [
    "rand() --->\n",
    "\n",
    "# return a single element within a spacific range i.e 0-1"
   ]
  },
  {
   "cell_type": "code",
   "execution_count": null,
   "id": "7e24c5a6-2ad9-4253-9502-b1c4354c326e",
   "metadata": {},
   "outputs": [],
   "source": []
  },
  {
   "cell_type": "code",
   "execution_count": 26,
   "id": "81e063b6-f46f-4a07-9472-7dee52c7321c",
   "metadata": {},
   "outputs": [
    {
     "data": {
      "text/plain": [
       "0.38286460436059755"
      ]
     },
     "execution_count": 26,
     "metadata": {},
     "output_type": "execute_result"
    }
   ],
   "source": [
    "random.rand()"
   ]
  },
  {
   "cell_type": "code",
   "execution_count": null,
   "id": "e4bb2b93-91d8-4a32-8543-c2dae836bb8b",
   "metadata": {},
   "outputs": [],
   "source": []
  },
  {
   "cell_type": "code",
   "execution_count": 27,
   "id": "66d67842-46e7-4e13-9abc-785301d1538f",
   "metadata": {},
   "outputs": [
    {
     "data": {
      "text/plain": [
       "array([0.2048427 , 0.33113226, 0.06611535, 0.38353119, 0.69601385,\n",
       "       0.81637982, 0.02504453, 0.04851555, 0.11957305, 0.32244362])"
      ]
     },
     "execution_count": 27,
     "metadata": {},
     "output_type": "execute_result"
    }
   ],
   "source": [
    "random.rand(10)"
   ]
  },
  {
   "cell_type": "code",
   "execution_count": null,
   "id": "e69f0a63-3a43-46d9-89be-de90a9243715",
   "metadata": {},
   "outputs": [],
   "source": []
  },
  {
   "cell_type": "code",
   "execution_count": 29,
   "id": "85df32c2-4315-4295-9f7e-7691dd0e5ba2",
   "metadata": {},
   "outputs": [
    {
     "data": {
      "text/plain": [
       "array([[0.09808543, 0.72353914, 0.85986011, 0.29551309],\n",
       "       [0.8971614 , 0.87586478, 0.61382119, 0.98777524]])"
      ]
     },
     "execution_count": 29,
     "metadata": {},
     "output_type": "execute_result"
    }
   ],
   "source": [
    "random.rand(2, 4)"
   ]
  },
  {
   "cell_type": "code",
   "execution_count": null,
   "id": "a33e9b07-e064-49f0-a3b9-6d311ee864aa",
   "metadata": {},
   "outputs": [],
   "source": []
  },
  {
   "cell_type": "code",
   "execution_count": null,
   "id": "acc07f87-6150-48da-89d4-2d9e3e75cb9d",
   "metadata": {},
   "outputs": [],
   "source": [
    "randint()\n",
    "rand()\n",
    "\n",
    "\n",
    "choice() ----> randly elments, from the given elements"
   ]
  },
  {
   "cell_type": "code",
   "execution_count": null,
   "id": "5a911847-fd25-45b2-8ddd-c8c1bbf5bce6",
   "metadata": {},
   "outputs": [],
   "source": []
  },
  {
   "cell_type": "code",
   "execution_count": 38,
   "id": "182d4907-26f1-4f7d-bfb6-f119c4ca945e",
   "metadata": {},
   "outputs": [],
   "source": [
    "zx = random.choice([1, 2, 3, 41, 2, 34, 112, 34, 12])"
   ]
  },
  {
   "cell_type": "code",
   "execution_count": 39,
   "id": "f86a0634-ae1e-4a1f-965c-6bcce55fb27e",
   "metadata": {},
   "outputs": [
    {
     "data": {
      "text/plain": [
       "34"
      ]
     },
     "execution_count": 39,
     "metadata": {},
     "output_type": "execute_result"
    }
   ],
   "source": [
    "zx"
   ]
  },
  {
   "cell_type": "code",
   "execution_count": null,
   "id": "58f0aa02-d8f4-4ed9-9ecb-dccccf2d9ae5",
   "metadata": {},
   "outputs": [],
   "source": []
  },
  {
   "cell_type": "code",
   "execution_count": 40,
   "id": "670a0a08-ddfa-4fd2-9fbb-92dc85b10fde",
   "metadata": {},
   "outputs": [],
   "source": [
    "zx = random.choice([1, 2, 3, 41, 2, 34, 112, 34, 12], size = (3))"
   ]
  },
  {
   "cell_type": "code",
   "execution_count": 41,
   "id": "7eecda7e-f62f-4bb2-972e-e34b9dd76602",
   "metadata": {},
   "outputs": [
    {
     "data": {
      "text/plain": [
       "array([41,  2,  3])"
      ]
     },
     "execution_count": 41,
     "metadata": {},
     "output_type": "execute_result"
    }
   ],
   "source": [
    "zx"
   ]
  },
  {
   "cell_type": "code",
   "execution_count": null,
   "id": "b5eaa608-65f6-489f-a8e4-b2291d6cdf82",
   "metadata": {},
   "outputs": [],
   "source": []
  },
  {
   "cell_type": "code",
   "execution_count": 42,
   "id": "2b47b7b2-7bbb-4ff3-bf36-919db796ae6c",
   "metadata": {},
   "outputs": [
    {
     "data": {
      "text/plain": [
       "array([[ 41,   2,  12,   2],\n",
       "       [  2,  12,  34, 112],\n",
       "       [ 34, 112,  41,  34]])"
      ]
     },
     "execution_count": 42,
     "metadata": {},
     "output_type": "execute_result"
    }
   ],
   "source": [
    "zx = random.choice([1, 2, 3, 41, 2, 34, 112, 34, 12], size = (3, 4))\n",
    "zx"
   ]
  },
  {
   "cell_type": "code",
   "execution_count": null,
   "id": "8d5f874f-6f9c-4465-b622-79a5a9d169a3",
   "metadata": {},
   "outputs": [],
   "source": []
  },
  {
   "cell_type": "code",
   "execution_count": 43,
   "id": "64a02747-8caf-4d1f-b0bb-327aa8c07d40",
   "metadata": {},
   "outputs": [],
   "source": [
    "# shuffle()"
   ]
  },
  {
   "cell_type": "code",
   "execution_count": null,
   "id": "1fac9947-934c-4c83-bd6e-74f30c2cff65",
   "metadata": {},
   "outputs": [],
   "source": []
  },
  {
   "cell_type": "code",
   "execution_count": 44,
   "id": "a92a5d42-11cd-450b-9ba3-f9f426608233",
   "metadata": {},
   "outputs": [],
   "source": [
    "import numpy as np"
   ]
  },
  {
   "cell_type": "code",
   "execution_count": 61,
   "id": "918c1767-299b-42a5-9c14-85e8e94ca994",
   "metadata": {},
   "outputs": [],
   "source": [
    "zx = np.array([1, 2, 3, 4, 5, 6, 7, 8])"
   ]
  },
  {
   "cell_type": "code",
   "execution_count": 62,
   "id": "23e07bc5-c74a-4d28-a898-b114cf557d56",
   "metadata": {},
   "outputs": [],
   "source": [
    "random.shuffle(zx)"
   ]
  },
  {
   "cell_type": "code",
   "execution_count": null,
   "id": "86d6ab2f-1e84-4833-a03e-77373e8eef9a",
   "metadata": {},
   "outputs": [],
   "source": []
  },
  {
   "cell_type": "code",
   "execution_count": 63,
   "id": "c06f8c53-e94d-4855-9dae-3add8b851a91",
   "metadata": {},
   "outputs": [
    {
     "data": {
      "text/plain": [
       "array([5, 1, 2, 8, 7, 6, 4, 3])"
      ]
     },
     "execution_count": 63,
     "metadata": {},
     "output_type": "execute_result"
    }
   ],
   "source": [
    "zx"
   ]
  },
  {
   "cell_type": "code",
   "execution_count": null,
   "id": "8a9b1bff-299c-4de6-8285-ca0d0d6fd21c",
   "metadata": {},
   "outputs": [],
   "source": []
  },
  {
   "cell_type": "code",
   "execution_count": 57,
   "id": "50645b34-8e80-4938-8661-01543147571a",
   "metadata": {},
   "outputs": [
    {
     "name": "stdout",
     "output_type": "stream",
     "text": [
      "Help on built-in function choice:\n",
      "\n",
      "choice(...) method of numpy.random.mtrand.RandomState instance\n",
      "    choice(a, size=None, replace=True, p=None)\n",
      "\n",
      "    Generates a random sample from a given 1-D array\n",
      "\n",
      "    .. versionadded:: 1.7.0\n",
      "\n",
      "    .. note::\n",
      "        New code should use the `~numpy.random.Generator.choice`\n",
      "        method of a `~numpy.random.Generator` instance instead;\n",
      "        please see the :ref:`random-quick-start`.\n",
      "\n",
      "    Parameters\n",
      "    ----------\n",
      "    a : 1-D array-like or int\n",
      "        If an ndarray, a random sample is generated from its elements.\n",
      "        If an int, the random sample is generated as if it were ``np.arange(a)``\n",
      "    size : int or tuple of ints, optional\n",
      "        Output shape.  If the given shape is, e.g., ``(m, n, k)``, then\n",
      "        ``m * n * k`` samples are drawn.  Default is None, in which case a\n",
      "        single value is returned.\n",
      "    replace : boolean, optional\n",
      "        Whether the sample is with or without replacement. Default is True,\n",
      "        meaning that a value of ``a`` can be selected multiple times.\n",
      "    p : 1-D array-like, optional\n",
      "        The probabilities associated with each entry in a.\n",
      "        If not given, the sample assumes a uniform distribution over all\n",
      "        entries in ``a``.\n",
      "\n",
      "    Returns\n",
      "    -------\n",
      "    samples : single item or ndarray\n",
      "        The generated random samples\n",
      "\n",
      "    Raises\n",
      "    ------\n",
      "    ValueError\n",
      "        If a is an int and less than zero, if a or p are not 1-dimensional,\n",
      "        if a is an array-like of size 0, if p is not a vector of\n",
      "        probabilities, if a and p have different lengths, or if\n",
      "        replace=False and the sample size is greater than the population\n",
      "        size\n",
      "\n",
      "    See Also\n",
      "    --------\n",
      "    randint, shuffle, permutation\n",
      "    random.Generator.choice: which should be used in new code\n",
      "\n",
      "    Notes\n",
      "    -----\n",
      "    Setting user-specified probabilities through ``p`` uses a more general but less\n",
      "    efficient sampler than the default. The general sampler produces a different sample\n",
      "    than the optimized sampler even if each element of ``p`` is 1 / len(a).\n",
      "\n",
      "    Sampling random rows from a 2-D array is not possible with this function,\n",
      "    but is possible with `Generator.choice` through its ``axis`` keyword.\n",
      "\n",
      "    Examples\n",
      "    --------\n",
      "    Generate a uniform random sample from np.arange(5) of size 3:\n",
      "\n",
      "    >>> np.random.choice(5, 3)\n",
      "    array([0, 3, 4]) # random\n",
      "    >>> #This is equivalent to np.random.randint(0,5,3)\n",
      "\n",
      "    Generate a non-uniform random sample from np.arange(5) of size 3:\n",
      "\n",
      "    >>> np.random.choice(5, 3, p=[0.1, 0, 0.3, 0.6, 0])\n",
      "    array([3, 3, 0]) # random\n",
      "\n",
      "    Generate a uniform random sample from np.arange(5) of size 3 without\n",
      "    replacement:\n",
      "\n",
      "    >>> np.random.choice(5, 3, replace=False)\n",
      "    array([3,1,0]) # random\n",
      "    >>> #This is equivalent to np.random.permutation(np.arange(5))[:3]\n",
      "\n",
      "    Generate a non-uniform random sample from np.arange(5) of size\n",
      "    3 without replacement:\n",
      "\n",
      "    >>> np.random.choice(5, 3, replace=False, p=[0.1, 0, 0.3, 0.6, 0])\n",
      "    array([2, 3, 0]) # random\n",
      "\n",
      "    Any of the above can be repeated with an arbitrary array-like\n",
      "    instead of just integers. For instance:\n",
      "\n",
      "    >>> aa_milne_arr = ['pooh', 'rabbit', 'piglet', 'Christopher']\n",
      "    >>> np.random.choice(aa_milne_arr, 5, p=[0.5, 0.1, 0.1, 0.3])\n",
      "    array(['pooh', 'pooh', 'pooh', 'Christopher', 'piglet'], # random\n",
      "          dtype='<U11')\n",
      "\n"
     ]
    }
   ],
   "source": [
    "help(random.choice)"
   ]
  },
  {
   "cell_type": "code",
   "execution_count": null,
   "id": "620867a6-4abc-452a-9747-efdb0b28f4a7",
   "metadata": {},
   "outputs": [],
   "source": []
  },
  {
   "cell_type": "code",
   "execution_count": null,
   "id": "6335c6ce-b8d4-48c7-b7b4-b5804d56e4e3",
   "metadata": {},
   "outputs": [],
   "source": []
  },
  {
   "cell_type": "code",
   "execution_count": null,
   "id": "c59243f2-ff27-46ec-9462-28b86f964a48",
   "metadata": {},
   "outputs": [],
   "source": [
    "Pandas"
   ]
  }
 ],
 "metadata": {
  "kernelspec": {
   "display_name": "Python 3 (ipykernel)",
   "language": "python",
   "name": "python3"
  },
  "language_info": {
   "codemirror_mode": {
    "name": "ipython",
    "version": 3
   },
   "file_extension": ".py",
   "mimetype": "text/x-python",
   "name": "python",
   "nbconvert_exporter": "python",
   "pygments_lexer": "ipython3",
   "version": "3.12.3"
  }
 },
 "nbformat": 4,
 "nbformat_minor": 5
}
