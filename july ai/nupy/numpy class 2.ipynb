{
 "cells": [
  {
   "cell_type": "code",
   "execution_count": 1,
   "id": "80737bd5-292e-4f43-8402-55bba93574fb",
   "metadata": {},
   "outputs": [],
   "source": [
    "# Numpy : "
   ]
  },
  {
   "cell_type": "code",
   "execution_count": null,
   "id": "a37af34c-ba0c-4e19-959f-ccf84399f7f6",
   "metadata": {},
   "outputs": [],
   "source": [
    "indexing or slicing --> list"
   ]
  },
  {
   "cell_type": "code",
   "execution_count": null,
   "id": "c89ac360-dbb1-4e94-82a2-6dde429ce855",
   "metadata": {},
   "outputs": [],
   "source": []
  },
  {
   "cell_type": "code",
   "execution_count": 2,
   "id": "3e5392d7-3c42-4b42-92e0-08b8f1322591",
   "metadata": {},
   "outputs": [],
   "source": [
    "# ndarray :->\n",
    "\n",
    "import numpy as np"
   ]
  },
  {
   "cell_type": "code",
   "execution_count": null,
   "id": "f4cec4b8-7c77-459c-9969-43d321193df1",
   "metadata": {},
   "outputs": [],
   "source": []
  },
  {
   "cell_type": "code",
   "execution_count": 3,
   "id": "605469cd-f937-43d8-8ffd-6a9860b1ff79",
   "metadata": {},
   "outputs": [],
   "source": [
    "arr = np.array([12, 34, 45, 23, 45])"
   ]
  },
  {
   "cell_type": "code",
   "execution_count": 4,
   "id": "a4e46f9e-a780-4200-b558-294b22ef6de2",
   "metadata": {},
   "outputs": [
    {
     "data": {
      "text/plain": [
       "1"
      ]
     },
     "execution_count": 4,
     "metadata": {},
     "output_type": "execute_result"
    }
   ],
   "source": [
    "# ndim -> to check dimmsion os ndarray\n",
    "arr.ndim"
   ]
  },
  {
   "cell_type": "code",
   "execution_count": 5,
   "id": "b7599742-f3aa-4d09-a273-6375da94ce18",
   "metadata": {},
   "outputs": [
    {
     "data": {
      "text/plain": [
       "(5,)"
      ]
     },
     "execution_count": 5,
     "metadata": {},
     "output_type": "execute_result"
    }
   ],
   "source": [
    "arr.shape"
   ]
  },
  {
   "cell_type": "code",
   "execution_count": null,
   "id": "7ad29ad1-da5a-48b1-8e54-5b0d41a57ea1",
   "metadata": {},
   "outputs": [],
   "source": []
  },
  {
   "cell_type": "code",
   "execution_count": 6,
   "id": "9e363cb9-7f2d-4c7d-9ac4-cae6d1f8710e",
   "metadata": {},
   "outputs": [],
   "source": [
    "# indexing in 1-D Ndarray"
   ]
  },
  {
   "cell_type": "code",
   "execution_count": 7,
   "id": "6c710308-fd9b-40bf-b1d6-a39b5ed2fd86",
   "metadata": {},
   "outputs": [],
   "source": [
    "arr = np.array([12, 34, 45, 23, 45])"
   ]
  },
  {
   "cell_type": "code",
   "execution_count": 8,
   "id": "c2a154d0-551b-4f3b-a946-7f4e7eaa561b",
   "metadata": {},
   "outputs": [
    {
     "data": {
      "text/plain": [
       "34"
      ]
     },
     "execution_count": 8,
     "metadata": {},
     "output_type": "execute_result"
    }
   ],
   "source": [
    "# objectname[indexnumber]\n",
    "\n",
    "arr[1]"
   ]
  },
  {
   "cell_type": "code",
   "execution_count": 9,
   "id": "d462b687-ff56-4860-b1ee-47911f38ea23",
   "metadata": {},
   "outputs": [
    {
     "data": {
      "text/plain": [
       "23"
      ]
     },
     "execution_count": 9,
     "metadata": {},
     "output_type": "execute_result"
    }
   ],
   "source": [
    "arr[3]"
   ]
  },
  {
   "cell_type": "code",
   "execution_count": 10,
   "id": "2b9e2414-02a7-49e8-85fd-ddda2f60b1d0",
   "metadata": {},
   "outputs": [
    {
     "data": {
      "text/plain": [
       "23"
      ]
     },
     "execution_count": 10,
     "metadata": {},
     "output_type": "execute_result"
    }
   ],
   "source": [
    "arr[-2]"
   ]
  },
  {
   "cell_type": "code",
   "execution_count": null,
   "id": "205a8a7c-def5-4aa6-aa78-4c125f30cf4d",
   "metadata": {},
   "outputs": [],
   "source": []
  },
  {
   "cell_type": "code",
   "execution_count": null,
   "id": "d47ce38b-0c2b-4972-904b-8ea3086f9e62",
   "metadata": {},
   "outputs": [],
   "source": [
    "# Slicing : \n",
    "\n",
    "\n",
    "# objectname[start : end : increment]\n",
    "\n",
    "# default:\n",
    "#     start : 0\n",
    "#     end : n - 1\n",
    "#     increrment : 1"
   ]
  },
  {
   "cell_type": "code",
   "execution_count": 11,
   "id": "d94a6494-37a9-4618-8da6-7cdcae28ab50",
   "metadata": {},
   "outputs": [],
   "source": [
    "arr = np.array([12, 34, 45, 23, 45])"
   ]
  },
  {
   "cell_type": "code",
   "execution_count": 12,
   "id": "27876a5c-dc9c-4a61-8d6e-ff0b764ebdad",
   "metadata": {},
   "outputs": [
    {
     "data": {
      "text/plain": [
       "array([45, 23])"
      ]
     },
     "execution_count": 12,
     "metadata": {},
     "output_type": "execute_result"
    }
   ],
   "source": [
    "arr[2 : 4 : 1]"
   ]
  },
  {
   "cell_type": "code",
   "execution_count": null,
   "id": "a2d5945f-499f-48df-a5ad-56035e47427e",
   "metadata": {},
   "outputs": [],
   "source": []
  },
  {
   "cell_type": "code",
   "execution_count": 13,
   "id": "cb990535-a7e2-4c27-8c97-f14d253262f8",
   "metadata": {},
   "outputs": [
    {
     "data": {
      "text/plain": [
       "array([12, 34, 45, 23])"
      ]
     },
     "execution_count": 13,
     "metadata": {},
     "output_type": "execute_result"
    }
   ],
   "source": [
    "arr[0 : 4 : 1]"
   ]
  },
  {
   "cell_type": "code",
   "execution_count": null,
   "id": "2a416d3a-e61b-479a-9639-2cd8f87b43ef",
   "metadata": {},
   "outputs": [],
   "source": []
  },
  {
   "cell_type": "code",
   "execution_count": 14,
   "id": "42cb3fd6-006c-4ea9-89ed-cb62cb785a80",
   "metadata": {},
   "outputs": [
    {
     "data": {
      "text/plain": [
       "array([12, 34, 45, 23])"
      ]
     },
     "execution_count": 14,
     "metadata": {},
     "output_type": "execute_result"
    }
   ],
   "source": [
    "arr[ : 4]"
   ]
  },
  {
   "cell_type": "code",
   "execution_count": null,
   "id": "0e791283-fe7e-41b6-b24e-1cd8de1e6af9",
   "metadata": {},
   "outputs": [],
   "source": []
  },
  {
   "cell_type": "code",
   "execution_count": 15,
   "id": "2c8c6520-1760-4624-815e-7fa52aec32b0",
   "metadata": {},
   "outputs": [],
   "source": [
    "arr = np.array([12, 34, 45, 23, 45])"
   ]
  },
  {
   "cell_type": "code",
   "execution_count": 16,
   "id": "7ace13b3-25e7-4d1a-89f7-aaff859dc5f4",
   "metadata": {},
   "outputs": [
    {
     "data": {
      "text/plain": [
       "array([34, 45, 23, 45])"
      ]
     },
     "execution_count": 16,
     "metadata": {},
     "output_type": "execute_result"
    }
   ],
   "source": [
    "arr[1 : ]"
   ]
  },
  {
   "cell_type": "code",
   "execution_count": null,
   "id": "e44e5544-3f43-4504-892f-b71a4d2ef120",
   "metadata": {},
   "outputs": [],
   "source": []
  },
  {
   "cell_type": "code",
   "execution_count": 18,
   "id": "7aaa0257-3022-4668-9828-4d1b2f1affea",
   "metadata": {},
   "outputs": [
    {
     "data": {
      "text/plain": [
       "array([12, 23])"
      ]
     },
     "execution_count": 18,
     "metadata": {},
     "output_type": "execute_result"
    }
   ],
   "source": [
    "arr[: : 3]"
   ]
  },
  {
   "cell_type": "code",
   "execution_count": null,
   "id": "68d85372-ab14-4689-a75a-b3a8e2f033db",
   "metadata": {},
   "outputs": [],
   "source": []
  },
  {
   "cell_type": "code",
   "execution_count": 19,
   "id": "cf5c510c-5c17-4d62-af24-26e278bafe62",
   "metadata": {},
   "outputs": [],
   "source": [
    "arr = np.array([12, 34, 45, 23, 45])"
   ]
  },
  {
   "cell_type": "code",
   "execution_count": 20,
   "id": "169c8281-c83f-486f-9e9d-0eae71ce27bc",
   "metadata": {},
   "outputs": [
    {
     "data": {
      "text/plain": [
       "array([45, 23, 45, 34, 12])"
      ]
     },
     "execution_count": 20,
     "metadata": {},
     "output_type": "execute_result"
    }
   ],
   "source": [
    "arr[ : : -1]"
   ]
  },
  {
   "cell_type": "code",
   "execution_count": null,
   "id": "8b179bc7-b5a5-45f5-a447-12fe44a60c74",
   "metadata": {},
   "outputs": [],
   "source": []
  },
  {
   "cell_type": "code",
   "execution_count": 21,
   "id": "050f3134-1f66-46a9-adda-233b5b571081",
   "metadata": {},
   "outputs": [],
   "source": [
    "# 2-D ndarrayyy lsicing indexing/\n"
   ]
  },
  {
   "cell_type": "code",
   "execution_count": null,
   "id": "fde10775-c97d-40d3-89a2-11e2df44e8c8",
   "metadata": {},
   "outputs": [],
   "source": []
  },
  {
   "cell_type": "code",
   "execution_count": 26,
   "id": "5c7a2f32-7c8f-4f35-a7ee-133d90256f67",
   "metadata": {},
   "outputs": [],
   "source": [
    "xyz = np.array([[12, 23, 45, 56, 67, 23], [23, 5, 6, 7, 8, 9]])"
   ]
  },
  {
   "cell_type": "code",
   "execution_count": 27,
   "id": "f14f0ee1-e36b-4de9-9ef2-342f526320f0",
   "metadata": {},
   "outputs": [
    {
     "data": {
      "text/plain": [
       "array([[12, 23, 45, 56, 67, 23],\n",
       "       [23,  5,  6,  7,  8,  9]])"
      ]
     },
     "execution_count": 27,
     "metadata": {},
     "output_type": "execute_result"
    }
   ],
   "source": [
    "xyz"
   ]
  },
  {
   "cell_type": "code",
   "execution_count": 28,
   "id": "c5af2025-a238-4d34-a9a5-fd60f7bce393",
   "metadata": {},
   "outputs": [
    {
     "data": {
      "text/plain": [
       "2"
      ]
     },
     "execution_count": 28,
     "metadata": {},
     "output_type": "execute_result"
    }
   ],
   "source": [
    "xyz.ndim"
   ]
  },
  {
   "cell_type": "code",
   "execution_count": 29,
   "id": "dd493be0-338a-46a0-b607-fb130599df18",
   "metadata": {},
   "outputs": [
    {
     "data": {
      "text/plain": [
       "(2, 6)"
      ]
     },
     "execution_count": 29,
     "metadata": {},
     "output_type": "execute_result"
    }
   ],
   "source": [
    "xyz.shape"
   ]
  },
  {
   "cell_type": "code",
   "execution_count": null,
   "id": "1bbf11e1-1ef8-474a-953c-56fdc1bbeb04",
   "metadata": {},
   "outputs": [],
   "source": []
  },
  {
   "cell_type": "code",
   "execution_count": 30,
   "id": "0bc3a0fb-439d-4e10-9a59-9f8b186ed68f",
   "metadata": {},
   "outputs": [],
   "source": [
    "xyz = np.array([[12, 23, 45, 56, 67, 23], [23, 5, 6, 7, 8, 9]])"
   ]
  },
  {
   "cell_type": "code",
   "execution_count": 31,
   "id": "90815c93-d3a5-4d66-8973-1167eeff47ed",
   "metadata": {},
   "outputs": [],
   "source": [
    "# indedxing   \n",
    "\n",
    "# objectname[array_index][element_index]"
   ]
  },
  {
   "cell_type": "code",
   "execution_count": 36,
   "id": "ded95979-6727-4523-8b21-02469ead3d84",
   "metadata": {},
   "outputs": [
    {
     "data": {
      "text/plain": [
       "array([23,  5,  6,  7,  8,  9])"
      ]
     },
     "execution_count": 36,
     "metadata": {},
     "output_type": "execute_result"
    }
   ],
   "source": [
    "xyz[1][1]"
   ]
  },
  {
   "cell_type": "code",
   "execution_count": 35,
   "id": "83679aca-4abd-451b-ac9e-0b01b754c9ff",
   "metadata": {},
   "outputs": [
    {
     "data": {
      "text/plain": [
       "23"
      ]
     },
     "execution_count": 35,
     "metadata": {},
     "output_type": "execute_result"
    }
   ],
   "source": [
    "xyz[0][-1]"
   ]
  },
  {
   "cell_type": "code",
   "execution_count": null,
   "id": "7317b1a9-4c5c-4ebc-89b4-ca9b1f49a105",
   "metadata": {},
   "outputs": [],
   "source": []
  },
  {
   "cell_type": "code",
   "execution_count": 37,
   "id": "d0d43d91-cf8a-4f1d-a532-57c2afe7fa9f",
   "metadata": {},
   "outputs": [],
   "source": [
    "# slicing"
   ]
  },
  {
   "cell_type": "code",
   "execution_count": null,
   "id": "d9f76ed3-89a9-46d1-b447-6baa1ea85df4",
   "metadata": {},
   "outputs": [],
   "source": []
  },
  {
   "cell_type": "code",
   "execution_count": 38,
   "id": "19ba497d-16f5-4274-9115-c1aea2237772",
   "metadata": {},
   "outputs": [],
   "source": [
    "xyz = np.array([[12, 23, 45, 56, 67, 23], [23, 5, 6, 7, 8, 9]])"
   ]
  },
  {
   "cell_type": "code",
   "execution_count": 39,
   "id": "ac231d73-78fd-4ea8-a8f4-76ce9a111fc1",
   "metadata": {},
   "outputs": [
    {
     "data": {
      "text/plain": [
       "array([5, 6, 7])"
      ]
     },
     "execution_count": 39,
     "metadata": {},
     "output_type": "execute_result"
    }
   ],
   "source": [
    "xyz[1][1 : 4]"
   ]
  },
  {
   "cell_type": "code",
   "execution_count": null,
   "id": "00290fd8-c6d9-4dbf-93dc-6e5e33f5fd60",
   "metadata": {},
   "outputs": [],
   "source": []
  },
  {
   "cell_type": "code",
   "execution_count": 40,
   "id": "371d25e5-c8ae-4071-a0b8-846b40bcad09",
   "metadata": {},
   "outputs": [],
   "source": [
    "# 3-D"
   ]
  },
  {
   "cell_type": "code",
   "execution_count": 49,
   "id": "b654d6ab-e2ec-4fcc-8d96-1b91f50c0116",
   "metadata": {},
   "outputs": [],
   "source": [
    "zx = np.array([[[12, 34, 45, 23], [45, 67, 45, 3]],\n",
    "                 [[12, 23, 43, 56], [67, 34, 23, 1]]])"
   ]
  },
  {
   "cell_type": "code",
   "execution_count": 50,
   "id": "3cfda3d9-a766-4482-9042-cbcf3843b270",
   "metadata": {},
   "outputs": [
    {
     "data": {
      "text/plain": [
       "array([[[12, 34, 45, 23],\n",
       "        [45, 67, 45,  3]],\n",
       "\n",
       "       [[12, 23, 43, 56],\n",
       "        [67, 34, 23,  1]]])"
      ]
     },
     "execution_count": 50,
     "metadata": {},
     "output_type": "execute_result"
    }
   ],
   "source": [
    "zx"
   ]
  },
  {
   "cell_type": "code",
   "execution_count": 51,
   "id": "db8a2393-844c-4a5b-b7bb-4d71a6184243",
   "metadata": {},
   "outputs": [
    {
     "data": {
      "text/plain": [
       "3"
      ]
     },
     "execution_count": 51,
     "metadata": {},
     "output_type": "execute_result"
    }
   ],
   "source": [
    "zx.ndim"
   ]
  },
  {
   "cell_type": "code",
   "execution_count": 52,
   "id": "b7e34fdd-9f61-4820-826c-72da8adfb6d1",
   "metadata": {},
   "outputs": [
    {
     "data": {
      "text/plain": [
       "(2, 2, 4)"
      ]
     },
     "execution_count": 52,
     "metadata": {},
     "output_type": "execute_result"
    }
   ],
   "source": [
    "zx.shape"
   ]
  },
  {
   "cell_type": "code",
   "execution_count": null,
   "id": "e2c4962e-a095-4f18-b471-862feeed3f45",
   "metadata": {},
   "outputs": [],
   "source": []
  },
  {
   "cell_type": "code",
   "execution_count": 53,
   "id": "8c4cc179-071c-4189-ba29-c69a206c0360",
   "metadata": {},
   "outputs": [],
   "source": [
    "zx = np.array([[[12, 34, 45, 23], [45, 67, 45, 3]], [[12, 23, 43, 56], [67, 34, 23, 1]]])"
   ]
  },
  {
   "cell_type": "code",
   "execution_count": 54,
   "id": "f9ade1b6-cfca-4f66-bedc-b05df829624a",
   "metadata": {},
   "outputs": [
    {
     "data": {
      "text/plain": [
       "3"
      ]
     },
     "execution_count": 54,
     "metadata": {},
     "output_type": "execute_result"
    }
   ],
   "source": [
    "zx[0][1][3]"
   ]
  },
  {
   "cell_type": "code",
   "execution_count": null,
   "id": "184ee6d6-f3ee-465a-9193-a50d93cefa6c",
   "metadata": {},
   "outputs": [],
   "source": []
  },
  {
   "cell_type": "markdown",
   "id": "198de628-8591-440d-80e5-609dfce28d9a",
   "metadata": {},
   "source": [
    "## numpy functions :"
   ]
  },
  {
   "cell_type": "code",
   "execution_count": null,
   "id": "498c321f-697f-4c0f-8af3-c2c2149ea612",
   "metadata": {},
   "outputs": [],
   "source": [
    "numpy ---->  arange() \n",
    "python ----> range()"
   ]
  },
  {
   "cell_type": "code",
   "execution_count": 55,
   "id": "de00e8be-8eb2-47c6-ada4-3eba8f90f304",
   "metadata": {},
   "outputs": [],
   "source": [
    "# np.arange(start, end, increment)"
   ]
  },
  {
   "cell_type": "code",
   "execution_count": 56,
   "id": "01cc72a0-62a5-4df3-a888-6730b58d0b1e",
   "metadata": {},
   "outputs": [
    {
     "data": {
      "text/plain": [
       "array([ 5,  6,  7,  8,  9, 10, 11, 12, 13, 14, 15, 16, 17, 18, 19, 20, 21])"
      ]
     },
     "execution_count": 56,
     "metadata": {},
     "output_type": "execute_result"
    }
   ],
   "source": [
    "x = np.arange(5, 22, 1)\n",
    "x"
   ]
  },
  {
   "cell_type": "code",
   "execution_count": null,
   "id": "0d962ad0-0616-44e0-bbd8-6ec6ab7f063e",
   "metadata": {},
   "outputs": [],
   "source": []
  },
  {
   "cell_type": "code",
   "execution_count": 57,
   "id": "7de7d20e-7e3e-4414-a09f-8de72db63e12",
   "metadata": {},
   "outputs": [],
   "source": [
    "# 10, 9, 8, 7, 6, 5, 4, 3, 2"
   ]
  },
  {
   "cell_type": "code",
   "execution_count": 58,
   "id": "d7212be0-9923-4b2e-b1d3-06a1ae155dda",
   "metadata": {},
   "outputs": [
    {
     "data": {
      "text/plain": [
       "array([10,  9,  8,  7,  6,  5,  4,  3,  2])"
      ]
     },
     "execution_count": 58,
     "metadata": {},
     "output_type": "execute_result"
    }
   ],
   "source": [
    "y = np.arange(10, 1, -1)\n",
    "y"
   ]
  },
  {
   "cell_type": "code",
   "execution_count": null,
   "id": "d1f090cd-a95d-481f-b755-f086823ce290",
   "metadata": {},
   "outputs": [],
   "source": []
  },
  {
   "cell_type": "code",
   "execution_count": 60,
   "id": "689c3e50-0f12-45ec-a121-0949edf683b0",
   "metadata": {},
   "outputs": [
    {
     "data": {
      "text/plain": [
       "array([ 2,  4,  6,  8, 10, 12, 14, 16, 18, 20])"
      ]
     },
     "execution_count": 60,
     "metadata": {},
     "output_type": "execute_result"
    }
   ],
   "source": [
    "np.arange(2, 21, 2)"
   ]
  },
  {
   "cell_type": "code",
   "execution_count": null,
   "id": "7e2c2e02-0cc4-4348-9727-84811ba4e5b7",
   "metadata": {},
   "outputs": [],
   "source": []
  },
  {
   "cell_type": "code",
   "execution_count": 61,
   "id": "b4ecff12-513d-4962-a6df-90c93037c1ff",
   "metadata": {},
   "outputs": [
    {
     "data": {
      "text/plain": [
       "array([0, 1, 2, 3, 4, 5, 6, 7, 8, 9])"
      ]
     },
     "execution_count": 61,
     "metadata": {},
     "output_type": "execute_result"
    }
   ],
   "source": [
    "np.arange(10)"
   ]
  },
  {
   "cell_type": "code",
   "execution_count": null,
   "id": "f1dc83c4-2fe7-4b6a-b70c-7d325be41e4e",
   "metadata": {},
   "outputs": [],
   "source": []
  },
  {
   "cell_type": "code",
   "execution_count": 63,
   "id": "86fe51da-4436-44d3-adea-843c9bc715aa",
   "metadata": {},
   "outputs": [
    {
     "data": {
      "text/plain": [
       "array([1, 2, 3])"
      ]
     },
     "execution_count": 63,
     "metadata": {},
     "output_type": "execute_result"
    }
   ],
   "source": [
    "np.arange(1, 4)"
   ]
  },
  {
   "cell_type": "code",
   "execution_count": null,
   "id": "df79c69d-2c63-4830-93e5-f4941682de8e",
   "metadata": {},
   "outputs": [],
   "source": []
  },
  {
   "cell_type": "code",
   "execution_count": 64,
   "id": "772315eb-f585-40e0-85e8-51583112e885",
   "metadata": {},
   "outputs": [
    {
     "data": {
      "text/plain": [
       "array([10,  9,  8,  7,  6,  5])"
      ]
     },
     "execution_count": 64,
     "metadata": {},
     "output_type": "execute_result"
    }
   ],
   "source": [
    "np.arange(10, 4, -1)\n"
   ]
  },
  {
   "cell_type": "code",
   "execution_count": null,
   "id": "0e0abf28-100f-4702-bcfd-c9d56c9a3fab",
   "metadata": {},
   "outputs": [],
   "source": []
  },
  {
   "cell_type": "code",
   "execution_count": 65,
   "id": "a3037590-4401-4d2a-a361-166a56d5a705",
   "metadata": {},
   "outputs": [],
   "source": [
    "# sort() ---> sorting the data"
   ]
  },
  {
   "cell_type": "code",
   "execution_count": 66,
   "id": "86b1ed29-e71a-4f33-9b2e-47dc9597bbb4",
   "metadata": {},
   "outputs": [],
   "source": [
    "zx = np.array([3, 4, 5, 3, 5, 7, 8, 45, 3, 2, 1])"
   ]
  },
  {
   "cell_type": "code",
   "execution_count": 67,
   "id": "a8b7f939-d25a-471a-9a7e-c954b8eba5d3",
   "metadata": {},
   "outputs": [],
   "source": [
    "# np.sort(objename)"
   ]
  },
  {
   "cell_type": "code",
   "execution_count": 68,
   "id": "258fcd9e-d9ed-407e-90fd-8373ac33e1c8",
   "metadata": {},
   "outputs": [
    {
     "data": {
      "text/plain": [
       "array([ 1,  2,  3,  3,  3,  4,  5,  5,  7,  8, 45])"
      ]
     },
     "execution_count": 68,
     "metadata": {},
     "output_type": "execute_result"
    }
   ],
   "source": [
    "np.sort(zx)"
   ]
  },
  {
   "cell_type": "code",
   "execution_count": null,
   "id": "746c2af6-2460-4a87-b785-0d58d6d690dc",
   "metadata": {},
   "outputs": [],
   "source": []
  },
  {
   "cell_type": "code",
   "execution_count": 71,
   "id": "ad6ba17e-3325-4030-8f58-eedd87c75f5a",
   "metadata": {},
   "outputs": [
    {
     "data": {
      "text/plain": [
       "array([45,  8,  7,  5,  5,  4,  3,  3,  3,  2,  1])"
      ]
     },
     "execution_count": 71,
     "metadata": {},
     "output_type": "execute_result"
    }
   ],
   "source": [
    "np.sort(zx)[: : -1]"
   ]
  },
  {
   "cell_type": "code",
   "execution_count": null,
   "id": "9ae86891-a410-41d6-98b2-bf686d434ddc",
   "metadata": {},
   "outputs": [],
   "source": []
  },
  {
   "cell_type": "code",
   "execution_count": 72,
   "id": "fcc22219-130f-4841-b718-6e68e7fb1856",
   "metadata": {},
   "outputs": [
    {
     "data": {
      "text/plain": [
       "array([ 3,  4,  5,  3,  5,  7,  8, 45,  3,  2,  1])"
      ]
     },
     "execution_count": 72,
     "metadata": {},
     "output_type": "execute_result"
    }
   ],
   "source": [
    "zx"
   ]
  },
  {
   "cell_type": "code",
   "execution_count": null,
   "id": "b48cf14c-5647-4378-af1c-861cbc1aa492",
   "metadata": {},
   "outputs": [],
   "source": []
  },
  {
   "cell_type": "code",
   "execution_count": null,
   "id": "c5c08228-db3b-4649-a5a8-e3c18f2d5b2d",
   "metadata": {},
   "outputs": [],
   "source": [
    "# where()"
   ]
  },
  {
   "cell_type": "code",
   "execution_count": null,
   "id": "1b48a031-e299-4900-8022-a072641957c2",
   "metadata": {},
   "outputs": [],
   "source": [
    "where() ---> to get the indexnumber of elements based on condation."
   ]
  },
  {
   "cell_type": "code",
   "execution_count": null,
   "id": "9e38e59f-7698-4fa4-9faf-f6cc64481c75",
   "metadata": {},
   "outputs": [],
   "source": []
  },
  {
   "cell_type": "code",
   "execution_count": 73,
   "id": "d268f267-964e-427a-8b51-5276a2ceacc1",
   "metadata": {},
   "outputs": [],
   "source": [
    "pq = np.array([2, 3, 2, 3, 34, 23, 34, 1, 2, 45, 6, 7, 34, 23, 9])"
   ]
  },
  {
   "cell_type": "code",
   "execution_count": null,
   "id": "4129e635-f5c0-4d60-909b-9f6e68d87eb9",
   "metadata": {},
   "outputs": [],
   "source": []
  },
  {
   "cell_type": "code",
   "execution_count": null,
   "id": "c66a467b-8bcf-4665-8aa8-aa9f57df9def",
   "metadata": {},
   "outputs": [],
   "source": [
    "np.where(condation)\n",
    "\n",
    "compersion operators:\n",
    "    1) ==\n",
    "    2) !=\n",
    "    3) <\n",
    "    4) >\n",
    "    5) <=\n",
    "    6) >="
   ]
  },
  {
   "cell_type": "code",
   "execution_count": null,
   "id": "41bbbc45-2b98-471a-aa68-6643147da828",
   "metadata": {},
   "outputs": [],
   "source": []
  },
  {
   "cell_type": "code",
   "execution_count": 74,
   "id": "76cb0bcf-f172-403e-bfae-f671b46f2543",
   "metadata": {},
   "outputs": [],
   "source": [
    "pq = np.array([2, 3, 2, 3, 34, 23, 34, 1, 2, 45, 6, 7, 34, 23, 9])"
   ]
  },
  {
   "cell_type": "code",
   "execution_count": 75,
   "id": "2eb753b4-464a-4652-ba46-abad33dc9ff8",
   "metadata": {},
   "outputs": [
    {
     "data": {
      "text/plain": [
       "(array([14], dtype=int64),)"
      ]
     },
     "execution_count": 75,
     "metadata": {},
     "output_type": "execute_result"
    }
   ],
   "source": [
    "np.where(pq == 9)"
   ]
  },
  {
   "cell_type": "code",
   "execution_count": null,
   "id": "14ca3cf5-6c7d-4b38-a249-2f2f5844a8ef",
   "metadata": {},
   "outputs": [],
   "source": []
  },
  {
   "cell_type": "code",
   "execution_count": 76,
   "id": "f00d71cb-18b1-40e6-bc2d-7aa3f397c8a0",
   "metadata": {},
   "outputs": [
    {
     "data": {
      "text/plain": [
       "(array([0, 2, 8], dtype=int64),)"
      ]
     },
     "execution_count": 76,
     "metadata": {},
     "output_type": "execute_result"
    }
   ],
   "source": [
    "np.where(pq == 2)"
   ]
  },
  {
   "cell_type": "code",
   "execution_count": null,
   "id": "dd27b6fb-9e3e-41a5-8b6e-81cabba6ba6c",
   "metadata": {},
   "outputs": [],
   "source": []
  },
  {
   "cell_type": "code",
   "execution_count": 77,
   "id": "64943171-000a-4fdf-a374-54610173e22d",
   "metadata": {},
   "outputs": [
    {
     "data": {
      "text/plain": [
       "(array([ 4,  5,  6,  9, 12, 13], dtype=int64),)"
      ]
     },
     "execution_count": 77,
     "metadata": {},
     "output_type": "execute_result"
    }
   ],
   "source": [
    "np.where(pq > 20)"
   ]
  },
  {
   "cell_type": "code",
   "execution_count": null,
   "id": "2f241730-a231-4ecb-bec9-c56ce200cc63",
   "metadata": {},
   "outputs": [],
   "source": []
  },
  {
   "cell_type": "code",
   "execution_count": null,
   "id": "07b6e8a4-0298-47d1-a758-1bc640f4687e",
   "metadata": {},
   "outputs": [],
   "source": []
  },
  {
   "cell_type": "code",
   "execution_count": null,
   "id": "c38a4a65-76cc-4fe2-b78c-36a47dd351e4",
   "metadata": {},
   "outputs": [],
   "source": [
    "reshape() --> it help to chnage the shape of data..\n",
    "\n",
    "1-D , ---> 2d, 3d\n",
    "2-D ---> 3d, 1d, 10d"
   ]
  },
  {
   "cell_type": "code",
   "execution_count": 78,
   "id": "d6649d03-afea-4b3a-bf35-189068900cb4",
   "metadata": {},
   "outputs": [],
   "source": [
    "\n",
    "# 1D ---> 2D"
   ]
  },
  {
   "cell_type": "code",
   "execution_count": 83,
   "id": "c53f2f84-a912-40d2-a077-12342bcee43a",
   "metadata": {},
   "outputs": [],
   "source": [
    "zx = np.arange(2, 44, 3)"
   ]
  },
  {
   "cell_type": "code",
   "execution_count": 84,
   "id": "7fdb46ec-e2d6-4474-89df-21b289e9bdc7",
   "metadata": {},
   "outputs": [
    {
     "data": {
      "text/plain": [
       "array([ 2,  5,  8, 11, 14, 17, 20, 23, 26, 29, 32, 35, 38, 41])"
      ]
     },
     "execution_count": 84,
     "metadata": {},
     "output_type": "execute_result"
    }
   ],
   "source": [
    "zx"
   ]
  },
  {
   "cell_type": "code",
   "execution_count": 85,
   "id": "7965f921-53ff-4c31-965d-7ecb300ab9b5",
   "metadata": {},
   "outputs": [
    {
     "data": {
      "text/plain": [
       "14"
      ]
     },
     "execution_count": 85,
     "metadata": {},
     "output_type": "execute_result"
    }
   ],
   "source": [
    "len(zx)"
   ]
  },
  {
   "cell_type": "code",
   "execution_count": null,
   "id": "0aee218b-05e0-4559-ab07-2a521efac75b",
   "metadata": {},
   "outputs": [],
   "source": [
    "# np.reshape(objectname, newshape)\n",
    "\n",
    "# objectbame.reshape(newshape)"
   ]
  },
  {
   "cell_type": "code",
   "execution_count": 87,
   "id": "72bd1393-5e8f-4eaa-bc9c-91f2b610901c",
   "metadata": {},
   "outputs": [
    {
     "data": {
      "text/plain": [
       "1"
      ]
     },
     "execution_count": 87,
     "metadata": {},
     "output_type": "execute_result"
    }
   ],
   "source": [
    "zx.ndim"
   ]
  },
  {
   "cell_type": "code",
   "execution_count": 90,
   "id": "c5e44ee9-89f1-439b-9bc4-c9d2ab246ba3",
   "metadata": {},
   "outputs": [
    {
     "data": {
      "text/plain": [
       "array([[ 2,  5,  8, 11, 14, 17, 20],\n",
       "       [23, 26, 29, 32, 35, 38, 41]])"
      ]
     },
     "execution_count": 90,
     "metadata": {},
     "output_type": "execute_result"
    }
   ],
   "source": [
    "np.reshape(zx, (2, 7))"
   ]
  },
  {
   "cell_type": "code",
   "execution_count": null,
   "id": "f9a5d9ac-3cff-4b0d-95f6-58e89d0858b7",
   "metadata": {},
   "outputs": [],
   "source": []
  },
  {
   "cell_type": "code",
   "execution_count": 91,
   "id": "8b8b9667-c835-4aaf-a52d-c61d1c23545e",
   "metadata": {},
   "outputs": [
    {
     "data": {
      "text/plain": [
       "array([[ 2,  5],\n",
       "       [ 8, 11],\n",
       "       [14, 17],\n",
       "       [20, 23],\n",
       "       [26, 29],\n",
       "       [32, 35],\n",
       "       [38, 41]])"
      ]
     },
     "execution_count": 91,
     "metadata": {},
     "output_type": "execute_result"
    }
   ],
   "source": [
    "np.reshape(zx, (7, 2))"
   ]
  },
  {
   "cell_type": "code",
   "execution_count": 92,
   "id": "6b86a224-48c1-40dd-95c8-7c612649eb42",
   "metadata": {},
   "outputs": [
    {
     "data": {
      "text/plain": [
       "array([[ 2],\n",
       "       [ 5],\n",
       "       [ 8],\n",
       "       [11],\n",
       "       [14],\n",
       "       [17],\n",
       "       [20],\n",
       "       [23],\n",
       "       [26],\n",
       "       [29],\n",
       "       [32],\n",
       "       [35],\n",
       "       [38],\n",
       "       [41]])"
      ]
     },
     "execution_count": 92,
     "metadata": {},
     "output_type": "execute_result"
    }
   ],
   "source": [
    "np.reshape(zx, (14, 1))"
   ]
  },
  {
   "cell_type": "code",
   "execution_count": 93,
   "id": "fb1e6cd3-9519-4ae3-868d-adbadbc471b9",
   "metadata": {},
   "outputs": [
    {
     "data": {
      "text/plain": [
       "array([[ 2,  5,  8, 11, 14, 17, 20, 23, 26, 29, 32, 35, 38, 41]])"
      ]
     },
     "execution_count": 93,
     "metadata": {},
     "output_type": "execute_result"
    }
   ],
   "source": [
    "np.reshape(zx, (1, 14))"
   ]
  },
  {
   "cell_type": "code",
   "execution_count": null,
   "id": "108e7b29-738e-45dd-ae40-123f0a41a79c",
   "metadata": {},
   "outputs": [],
   "source": []
  },
  {
   "cell_type": "code",
   "execution_count": 96,
   "id": "dba987a8-1c2c-4ca5-9e23-3433e1a360ec",
   "metadata": {},
   "outputs": [],
   "source": [
    "zx = np.array([1, 4, 2, 3, 4, 5, 6, 4, 5, 4, 6, 4])"
   ]
  },
  {
   "cell_type": "code",
   "execution_count": 97,
   "id": "cf2ca585-6f77-4ac4-9f7f-641967566707",
   "metadata": {},
   "outputs": [
    {
     "data": {
      "text/plain": [
       "12"
      ]
     },
     "execution_count": 97,
     "metadata": {},
     "output_type": "execute_result"
    }
   ],
   "source": [
    "len(zx)"
   ]
  },
  {
   "cell_type": "code",
   "execution_count": 98,
   "id": "ecc5889b-4521-4ecb-9ab0-79e12fd57ec1",
   "metadata": {},
   "outputs": [
    {
     "data": {
      "text/plain": [
       "array([[1, 4, 2],\n",
       "       [3, 4, 5],\n",
       "       [6, 4, 5],\n",
       "       [4, 6, 4]])"
      ]
     },
     "execution_count": 98,
     "metadata": {},
     "output_type": "execute_result"
    }
   ],
   "source": [
    "pq = np.reshape(zx, (4, 3))\n",
    "pq"
   ]
  },
  {
   "cell_type": "code",
   "execution_count": null,
   "id": "cef1f87e-e5c3-46a1-9e5a-33dd90b33767",
   "metadata": {},
   "outputs": [],
   "source": []
  },
  {
   "cell_type": "code",
   "execution_count": 99,
   "id": "a3a74805-8385-4620-8c83-746329825ba4",
   "metadata": {},
   "outputs": [],
   "source": [
    "# -1 ---> automatically recognizee"
   ]
  },
  {
   "cell_type": "code",
   "execution_count": 100,
   "id": "4243d226-9344-4034-b85d-4349bf12fec2",
   "metadata": {},
   "outputs": [],
   "source": [
    "zx = np.array([1, 4, 2, 3, 4, 5, 6, 4, 5, 4, 6, 4])"
   ]
  },
  {
   "cell_type": "code",
   "execution_count": 101,
   "id": "4f6ec2bd-36d6-4a65-bb82-25b6f0edb582",
   "metadata": {},
   "outputs": [
    {
     "data": {
      "text/plain": [
       "array([[1, 4, 2],\n",
       "       [3, 4, 5],\n",
       "       [6, 4, 5],\n",
       "       [4, 6, 4]])"
      ]
     },
     "execution_count": 101,
     "metadata": {},
     "output_type": "execute_result"
    }
   ],
   "source": [
    "np.reshape(zx, (4, -1))"
   ]
  },
  {
   "cell_type": "code",
   "execution_count": null,
   "id": "2ab58d6c-814a-49ba-8782-9f1d98ee02bb",
   "metadata": {},
   "outputs": [],
   "source": []
  },
  {
   "cell_type": "code",
   "execution_count": 102,
   "id": "1dae444b-88bd-44eb-876c-bd08269a44c3",
   "metadata": {},
   "outputs": [
    {
     "data": {
      "text/plain": [
       "array([[1, 4, 2, 3, 4, 5],\n",
       "       [6, 4, 5, 4, 6, 4]])"
      ]
     },
     "execution_count": 102,
     "metadata": {},
     "output_type": "execute_result"
    }
   ],
   "source": [
    " np.reshape(zx, (2, -1))"
   ]
  },
  {
   "cell_type": "code",
   "execution_count": 103,
   "id": "8c8aa40b-ae5f-4e40-a931-41eb3a1fc2d6",
   "metadata": {},
   "outputs": [
    {
     "data": {
      "text/plain": [
       "array([[1, 4],\n",
       "       [2, 3],\n",
       "       [4, 5],\n",
       "       [6, 4],\n",
       "       [5, 4],\n",
       "       [6, 4]])"
      ]
     },
     "execution_count": 103,
     "metadata": {},
     "output_type": "execute_result"
    }
   ],
   "source": [
    "np.reshape(zx, (6, -1))"
   ]
  },
  {
   "cell_type": "code",
   "execution_count": 105,
   "id": "3b6d77f3-de71-4a83-bb41-67e5f52451ab",
   "metadata": {},
   "outputs": [
    {
     "data": {
      "text/plain": [
       "array([[1, 4, 2, 3],\n",
       "       [4, 5, 6, 4],\n",
       "       [5, 4, 6, 4]])"
      ]
     },
     "execution_count": 105,
     "metadata": {},
     "output_type": "execute_result"
    }
   ],
   "source": [
    "np.reshape(zx, (3, -1))"
   ]
  },
  {
   "cell_type": "code",
   "execution_count": null,
   "id": "d1e6e2cd-4006-40a2-9a58-eb416dca150e",
   "metadata": {},
   "outputs": [],
   "source": []
  },
  {
   "cell_type": "code",
   "execution_count": 106,
   "id": "cba92199-c14d-4e4e-b0c5-ec1e82a4a2b1",
   "metadata": {},
   "outputs": [
    {
     "data": {
      "text/plain": [
       "array([[1, 4, 2, 3],\n",
       "       [4, 5, 6, 4],\n",
       "       [5, 4, 6, 4]])"
      ]
     },
     "execution_count": 106,
     "metadata": {},
     "output_type": "execute_result"
    }
   ],
   "source": [
    "np.reshape(zx, (-1, 4))"
   ]
  },
  {
   "cell_type": "code",
   "execution_count": null,
   "id": "6cb65208-bece-400a-9de9-b7cc9285494e",
   "metadata": {},
   "outputs": [],
   "source": [
    " "
   ]
  },
  {
   "cell_type": "code",
   "execution_count": 107,
   "id": "d9255bf5-5e3f-495d-8383-531de08cb500",
   "metadata": {},
   "outputs": [],
   "source": [
    "# 2D ---> 1D"
   ]
  },
  {
   "cell_type": "code",
   "execution_count": 108,
   "id": "0e32f04c-a01c-4f7d-85ac-e6ff9f1a1750",
   "metadata": {},
   "outputs": [],
   "source": [
    "zx = np.array([[23, 34, 45, 65, 3], [34, 23, 34, 2, 2]])"
   ]
  },
  {
   "cell_type": "code",
   "execution_count": 109,
   "id": "c2063feb-c95b-44f7-b6ed-f4661e16a9e0",
   "metadata": {},
   "outputs": [
    {
     "data": {
      "text/plain": [
       "array([[23, 34, 45, 65,  3],\n",
       "       [34, 23, 34,  2,  2]])"
      ]
     },
     "execution_count": 109,
     "metadata": {},
     "output_type": "execute_result"
    }
   ],
   "source": [
    "zx"
   ]
  },
  {
   "cell_type": "code",
   "execution_count": null,
   "id": "1d083f34-8c00-4913-a9ca-60072fc3cd19",
   "metadata": {},
   "outputs": [],
   "source": []
  },
  {
   "cell_type": "code",
   "execution_count": 110,
   "id": "2b7b7dc5-5b35-4fdc-bb93-0943509b9dc7",
   "metadata": {},
   "outputs": [
    {
     "data": {
      "text/plain": [
       "array([23, 34, 45, 65,  3, 34, 23, 34,  2,  2])"
      ]
     },
     "execution_count": 110,
     "metadata": {},
     "output_type": "execute_result"
    }
   ],
   "source": [
    "np.reshape(zx, -1)"
   ]
  },
  {
   "cell_type": "code",
   "execution_count": null,
   "id": "fe403f53-e517-4340-b240-28f17e7648b3",
   "metadata": {},
   "outputs": [],
   "source": []
  },
  {
   "cell_type": "code",
   "execution_count": null,
   "id": "3b822068-6f84-4bae-a4c1-2115660d829a",
   "metadata": {},
   "outputs": [],
   "source": []
  },
  {
   "cell_type": "code",
   "execution_count": 111,
   "id": "3f2c73e8-2beb-48ec-8319-5df48557f2dd",
   "metadata": {},
   "outputs": [],
   "source": [
    "# List ---> mutable\n",
    "\n",
    "# numpy array ---> mutable"
   ]
  },
  {
   "cell_type": "code",
   "execution_count": 113,
   "id": "7470b42b-347a-4bc4-8cc8-0bbf816e82db",
   "metadata": {},
   "outputs": [],
   "source": [
    "zx = np.array([1, 2, 3, 8, 5, 7, 9, 10])"
   ]
  },
  {
   "cell_type": "code",
   "execution_count": 114,
   "id": "9a473c21-534a-4798-977d-195e6d9301c7",
   "metadata": {},
   "outputs": [],
   "source": [
    "# REPLACE ELEMENTS : "
   ]
  },
  {
   "cell_type": "code",
   "execution_count": 115,
   "id": "7a7539e5-2eeb-4147-b105-003dc3c3bf81",
   "metadata": {},
   "outputs": [],
   "source": [
    "# syntex\n",
    "    # objectname[indexnumber] = new_element\n",
    "\n",
    "zx[2] = 500"
   ]
  },
  {
   "cell_type": "code",
   "execution_count": 116,
   "id": "6f5fc1c9-05b2-478d-bc04-64e917a0bee0",
   "metadata": {},
   "outputs": [
    {
     "data": {
      "text/plain": [
       "array([  1,   2, 500,   8,   5,   7,   9,  10])"
      ]
     },
     "execution_count": 116,
     "metadata": {},
     "output_type": "execute_result"
    }
   ],
   "source": [
    "zx"
   ]
  },
  {
   "cell_type": "code",
   "execution_count": null,
   "id": "2c1bcfb5-58d9-4057-a204-fa0cc7976ba0",
   "metadata": {},
   "outputs": [],
   "source": []
  },
  {
   "cell_type": "code",
   "execution_count": 117,
   "id": "84cb0c55-5a88-4cfd-9fed-06ac8e3ea142",
   "metadata": {},
   "outputs": [],
   "source": [
    "zx = np.array([1, 2, 3, 8, 5, 7, 9, 10])"
   ]
  },
  {
   "cell_type": "code",
   "execution_count": 118,
   "id": "15795542-93b7-43a3-9349-6be90e13be5c",
   "metadata": {},
   "outputs": [
    {
     "data": {
      "text/plain": [
       "array([ 1,  2,  3,  8,  5,  7,  9, 10])"
      ]
     },
     "execution_count": 118,
     "metadata": {},
     "output_type": "execute_result"
    }
   ],
   "source": [
    "zx"
   ]
  },
  {
   "cell_type": "code",
   "execution_count": 119,
   "id": "c93c06cb-7cd7-4c7a-a5d9-6bd24a388f1d",
   "metadata": {},
   "outputs": [],
   "source": [
    "inx = [2, 5, 7]\n",
    "new_ele = [500, 1000, 600]"
   ]
  },
  {
   "cell_type": "code",
   "execution_count": 120,
   "id": "acb6a35a-9f91-4112-9a88-c3ef9d40df01",
   "metadata": {},
   "outputs": [],
   "source": [
    "zx[inx] = new_ele"
   ]
  },
  {
   "cell_type": "code",
   "execution_count": 121,
   "id": "9b277b6a-e9a1-4941-baa6-58fa3c095843",
   "metadata": {},
   "outputs": [
    {
     "data": {
      "text/plain": [
       "array([   1,    2,  500,    8,    5, 1000,    9,  600])"
      ]
     },
     "execution_count": 121,
     "metadata": {},
     "output_type": "execute_result"
    }
   ],
   "source": [
    "zx"
   ]
  },
  {
   "cell_type": "code",
   "execution_count": 122,
   "id": "69842713-b20b-4fcd-a4b3-3145c66b26b3",
   "metadata": {},
   "outputs": [],
   "source": [
    "zx[[2, 5, 7]] = [500, 1000, 600]"
   ]
  },
  {
   "cell_type": "code",
   "execution_count": 123,
   "id": "29bff107-b812-47f9-ba5f-b42555346fdd",
   "metadata": {},
   "outputs": [
    {
     "data": {
      "text/plain": [
       "array([   1,    2,  500,    8,    5, 1000,    9,  600])"
      ]
     },
     "execution_count": 123,
     "metadata": {},
     "output_type": "execute_result"
    }
   ],
   "source": [
    "zx"
   ]
  },
  {
   "cell_type": "code",
   "execution_count": null,
   "id": "16811237-ff43-4021-a626-bf2ee36e648e",
   "metadata": {},
   "outputs": [],
   "source": []
  },
  {
   "cell_type": "code",
   "execution_count": 124,
   "id": "0f9a05af-99bb-49cf-84e5-c6f4ddc23210",
   "metadata": {},
   "outputs": [],
   "source": [
    "# adding elements in ndarray:"
   ]
  },
  {
   "cell_type": "code",
   "execution_count": 125,
   "id": "22c0c44f-4eec-4791-ad00-f180b0c596f7",
   "metadata": {},
   "outputs": [],
   "source": [
    "zx = np.array([1, 2, 3, 8, 5, 7, 9, 10])"
   ]
  },
  {
   "cell_type": "code",
   "execution_count": 126,
   "id": "302af3cd-0cea-428f-95ee-560dbfb9edbd",
   "metadata": {},
   "outputs": [],
   "source": [
    "# append() --> to add new element at the end of ndarray..\n",
    "\n",
    "# syntex:\n",
    "\n",
    "# np.append(objectname, new_element)"
   ]
  },
  {
   "cell_type": "code",
   "execution_count": 128,
   "id": "c2e7a9fb-8207-4c90-a789-7106f073c70d",
   "metadata": {},
   "outputs": [
    {
     "data": {
      "text/plain": [
       "array([  1,   2,   3,   8,   5,   7,   9,  10, 200])"
      ]
     },
     "execution_count": 128,
     "metadata": {},
     "output_type": "execute_result"
    }
   ],
   "source": [
    "np.append(zx, 200)"
   ]
  },
  {
   "cell_type": "code",
   "execution_count": null,
   "id": "090fc296-df1d-4877-b546-02c8abf29df1",
   "metadata": {},
   "outputs": [],
   "source": []
  },
  {
   "cell_type": "code",
   "execution_count": 129,
   "id": "df7a1946-d3e3-4bba-ae75-3f36b4f73259",
   "metadata": {},
   "outputs": [
    {
     "data": {
      "text/plain": [
       "array([  1,   2,   3,   8,   5,   7,   9,  10,  12,  34,  45, 567,  78])"
      ]
     },
     "execution_count": 129,
     "metadata": {},
     "output_type": "execute_result"
    }
   ],
   "source": [
    "np.append(zx, [12, 34, 45, 567, 78])"
   ]
  },
  {
   "cell_type": "code",
   "execution_count": 130,
   "id": "5f494a49-1912-427c-a12d-42f86ad20b56",
   "metadata": {},
   "outputs": [
    {
     "data": {
      "text/plain": [
       "array([ 1,  2,  3,  8,  5,  7,  9, 10])"
      ]
     },
     "execution_count": 130,
     "metadata": {},
     "output_type": "execute_result"
    }
   ],
   "source": [
    "zx"
   ]
  },
  {
   "cell_type": "code",
   "execution_count": null,
   "id": "aace80d4-7b90-47c4-ba79-6061542cb45a",
   "metadata": {},
   "outputs": [],
   "source": []
  },
  {
   "cell_type": "code",
   "execution_count": null,
   "id": "7ef5c486-d09c-4524-88e1-5dba5ce7e2d6",
   "metadata": {},
   "outputs": [],
   "source": [
    "1) empty ndaary    zx = np.array([])\n",
    "2) add 2 table\n",
    "\n",
    "\n",
    "\n",
    "array(['2 x 1 = 2', '2 x 2 = 4', '2 x 3 = 6',      . . ..  ,'2 x 10 = 20'])"
   ]
  },
  {
   "cell_type": "code",
   "execution_count": null,
   "id": "243168e4-46fa-43ce-9780-39a1dd49da07",
   "metadata": {},
   "outputs": [],
   "source": []
  },
  {
   "cell_type": "code",
   "execution_count": 131,
   "id": "7def143a-48b7-4074-9bf3-abd920075283",
   "metadata": {},
   "outputs": [],
   "source": [
    "zx = np.array([])"
   ]
  },
  {
   "cell_type": "code",
   "execution_count": 135,
   "id": "6dec6ad3-5863-4cda-af4d-440bd03ddb3b",
   "metadata": {},
   "outputs": [],
   "source": [
    "for i in np.arange(1, 11):\n",
    "    zx = np.append(zx, f\"2 x {i} = {2*i}\")"
   ]
  },
  {
   "cell_type": "code",
   "execution_count": 136,
   "id": "7a812c45-4d15-4617-9a80-e48edc9316f6",
   "metadata": {},
   "outputs": [
    {
     "data": {
      "text/plain": [
       "array(['2 x 1 = 2', '2 x 2 = 4', '2 x 3 = 6', '2 x 4 = 8', '2 x 5 = 10',\n",
       "       '2 x 6 = 12', '2 x 7 = 14', '2 x 8 = 16', '2 x 9 = 18',\n",
       "       '2 x 10 = 20'], dtype='<U32')"
      ]
     },
     "execution_count": 136,
     "metadata": {},
     "output_type": "execute_result"
    }
   ],
   "source": [
    "zx"
   ]
  },
  {
   "cell_type": "code",
   "execution_count": null,
   "id": "5f9bab65-a08d-4582-b01f-afed1a7f60c9",
   "metadata": {},
   "outputs": [],
   "source": []
  },
  {
   "cell_type": "code",
   "execution_count": null,
   "id": "fc5e4bb8-ac8b-4069-a254-25f061710e04",
   "metadata": {},
   "outputs": [],
   "source": []
  },
  {
   "cell_type": "code",
   "execution_count": 137,
   "id": "39fd4ec0-9fc0-4acc-85e4-52233441a435",
   "metadata": {},
   "outputs": [],
   "source": [
    "# insert() ---> help to add new element, at a perticter location.."
   ]
  },
  {
   "cell_type": "code",
   "execution_count": 138,
   "id": "dfa28e31-1337-4c18-88f0-92f28cf3e735",
   "metadata": {},
   "outputs": [],
   "source": [
    "# np.insert(objectname, indexnumber, newlement)"
   ]
  },
  {
   "cell_type": "code",
   "execution_count": 139,
   "id": "d6fc7b22-70aa-484b-8201-a2e0bb3919ef",
   "metadata": {},
   "outputs": [],
   "source": [
    "zx = np.array([1, 2, 3, 8, 5, 7, 9, 10])"
   ]
  },
  {
   "cell_type": "code",
   "execution_count": null,
   "id": "40f999db-8f94-4b04-9c3c-6212ad09a797",
   "metadata": {},
   "outputs": [],
   "source": []
  },
  {
   "cell_type": "code",
   "execution_count": 140,
   "id": "db6bc49f-d0ec-4bdd-ad8c-ee1c6d9b0de8",
   "metadata": {},
   "outputs": [
    {
     "data": {
      "text/plain": [
       "array([  1,   2, 400,   3,   8,   5,   7,   9,  10])"
      ]
     },
     "execution_count": 140,
     "metadata": {},
     "output_type": "execute_result"
    }
   ],
   "source": [
    "np.insert(zx, 2, 400)"
   ]
  },
  {
   "cell_type": "code",
   "execution_count": null,
   "id": "a994aa14-3417-4217-a6d2-9c7f46108a7a",
   "metadata": {},
   "outputs": [],
   "source": []
  },
  {
   "cell_type": "code",
   "execution_count": 141,
   "id": "7c812983-807b-42f1-8c83-aec80e37e76e",
   "metadata": {},
   "outputs": [
    {
     "data": {
      "text/plain": [
       "array([  1, 100,   2,   3,   8,   5, 500,   7,   9,  10])"
      ]
     },
     "execution_count": 141,
     "metadata": {},
     "output_type": "execute_result"
    }
   ],
   "source": [
    "zx = np.array([1, 2, 3, 8, 5, 7, 9, 10])\n",
    "\n",
    "np.insert(zx, [1, 5], [100, 500])"
   ]
  },
  {
   "cell_type": "code",
   "execution_count": null,
   "id": "e0b2f50f-3f89-44ca-b375-983ccdbea0d6",
   "metadata": {},
   "outputs": [],
   "source": []
  },
  {
   "cell_type": "code",
   "execution_count": 142,
   "id": "3e8cb96d-ae8a-4dd6-9a29-8fee56fbfdb1",
   "metadata": {},
   "outputs": [],
   "source": [
    "# delete() ----> to deleted data"
   ]
  },
  {
   "cell_type": "code",
   "execution_count": 143,
   "id": "209d2df7-7a63-4167-80ca-08b5bc04af07",
   "metadata": {},
   "outputs": [],
   "source": [
    "# np.delete(objectname, indexnumber)"
   ]
  },
  {
   "cell_type": "code",
   "execution_count": 144,
   "id": "7cf953f8-a810-45b4-8466-f46245e8ffb8",
   "metadata": {},
   "outputs": [],
   "source": [
    "zx = np.array([1, 2, 3, 8, 5, 7, 9, 10])\n"
   ]
  },
  {
   "cell_type": "code",
   "execution_count": 145,
   "id": "77866984-e0d4-459a-8dfb-726bd41a1e16",
   "metadata": {},
   "outputs": [
    {
     "data": {
      "text/plain": [
       "array([ 1,  2,  3,  8,  5,  7, 10])"
      ]
     },
     "execution_count": 145,
     "metadata": {},
     "output_type": "execute_result"
    }
   ],
   "source": [
    "np.delete(zx, -2)"
   ]
  },
  {
   "cell_type": "code",
   "execution_count": null,
   "id": "38cd342a-f922-4045-923c-15128cae5a45",
   "metadata": {},
   "outputs": [],
   "source": []
  },
  {
   "cell_type": "code",
   "execution_count": 146,
   "id": "f1d9ad6f-4707-45c1-b4e3-1161905e465b",
   "metadata": {},
   "outputs": [],
   "source": [
    "zx = np.array([1, 2, 3, 8, 5, 7, 9, 10])\n"
   ]
  },
  {
   "cell_type": "code",
   "execution_count": 147,
   "id": "41a988ee-90cd-497f-81b8-d9fff7f18719",
   "metadata": {},
   "outputs": [
    {
     "data": {
      "text/plain": [
       "array([1, 3, 8, 7, 9])"
      ]
     },
     "execution_count": 147,
     "metadata": {},
     "output_type": "execute_result"
    }
   ],
   "source": [
    "np.delete(zx, [1, 4,  -1])"
   ]
  },
  {
   "cell_type": "code",
   "execution_count": null,
   "id": "aafabbf7-4230-46cd-92fc-4e6830d2da8d",
   "metadata": {},
   "outputs": [],
   "source": []
  },
  {
   "cell_type": "code",
   "execution_count": 148,
   "id": "537cdc88-8f6b-4552-8dc6-77b3fd18894a",
   "metadata": {},
   "outputs": [],
   "source": [
    "# ones() -----> placeholders"
   ]
  },
  {
   "cell_type": "code",
   "execution_count": 149,
   "id": "3e0647dd-35b9-4a7c-8302-6ba8a0b54884",
   "metadata": {},
   "outputs": [],
   "source": [
    "x = np.ones(10)"
   ]
  },
  {
   "cell_type": "code",
   "execution_count": 150,
   "id": "c66f1792-5ec0-466f-9f9b-dd2cd67bdef7",
   "metadata": {},
   "outputs": [
    {
     "data": {
      "text/plain": [
       "array([1., 1., 1., 1., 1., 1., 1., 1., 1., 1.])"
      ]
     },
     "execution_count": 150,
     "metadata": {},
     "output_type": "execute_result"
    }
   ],
   "source": [
    "x"
   ]
  },
  {
   "cell_type": "code",
   "execution_count": null,
   "id": "c159fcfb-5cc8-49c8-ba89-476b61de134b",
   "metadata": {},
   "outputs": [],
   "source": []
  },
  {
   "cell_type": "code",
   "execution_count": 151,
   "id": "d89f39f4-e765-45bf-90c8-a9cb0986e3f0",
   "metadata": {},
   "outputs": [
    {
     "data": {
      "text/plain": [
       "array([[1., 1., 1.],\n",
       "       [1., 1., 1.],\n",
       "       [1., 1., 1.]])"
      ]
     },
     "execution_count": 151,
     "metadata": {},
     "output_type": "execute_result"
    }
   ],
   "source": [
    "x = np.ones((3, 3))\n",
    "x"
   ]
  },
  {
   "cell_type": "code",
   "execution_count": null,
   "id": "5743d3a5-5550-4fca-8e6f-8833d9b22cd8",
   "metadata": {},
   "outputs": [],
   "source": []
  },
  {
   "cell_type": "code",
   "execution_count": 152,
   "id": "67869e1d-f400-4abf-8e50-259b5e0be911",
   "metadata": {},
   "outputs": [
    {
     "data": {
      "text/plain": [
       "array([[[1., 1.],\n",
       "        [1., 1.],\n",
       "        [1., 1.]],\n",
       "\n",
       "       [[1., 1.],\n",
       "        [1., 1.],\n",
       "        [1., 1.]],\n",
       "\n",
       "       [[1., 1.],\n",
       "        [1., 1.],\n",
       "        [1., 1.]]])"
      ]
     },
     "execution_count": 152,
     "metadata": {},
     "output_type": "execute_result"
    }
   ],
   "source": [
    "x = np.ones((3, 3, 2))\n",
    "x"
   ]
  },
  {
   "cell_type": "code",
   "execution_count": null,
   "id": "5ece2d8a-8bd2-4b31-82c1-b2cdf90a9792",
   "metadata": {},
   "outputs": [],
   "source": []
  },
  {
   "cell_type": "code",
   "execution_count": 153,
   "id": "36734f0e-6c0a-4f52-8aa7-6a2891dba19f",
   "metadata": {},
   "outputs": [],
   "source": [
    "# zeros()"
   ]
  },
  {
   "cell_type": "code",
   "execution_count": 154,
   "id": "bcf7c4d5-5ff4-4126-aeaf-594dfeab0abc",
   "metadata": {},
   "outputs": [
    {
     "data": {
      "text/plain": [
       "array([0., 0., 0., 0., 0.])"
      ]
     },
     "execution_count": 154,
     "metadata": {},
     "output_type": "execute_result"
    }
   ],
   "source": [
    "np.zeros(5)"
   ]
  },
  {
   "cell_type": "code",
   "execution_count": null,
   "id": "f88c9ac7-3861-4c14-809f-983f28af10ca",
   "metadata": {},
   "outputs": [],
   "source": []
  },
  {
   "cell_type": "code",
   "execution_count": 155,
   "id": "58dca19f-47db-4cf0-9ccc-ccb10e6c7272",
   "metadata": {},
   "outputs": [
    {
     "data": {
      "text/plain": [
       "array([[0., 0., 0., 0., 0., 0.],\n",
       "       [0., 0., 0., 0., 0., 0.],\n",
       "       [0., 0., 0., 0., 0., 0.],\n",
       "       [0., 0., 0., 0., 0., 0.]])"
      ]
     },
     "execution_count": 155,
     "metadata": {},
     "output_type": "execute_result"
    }
   ],
   "source": [
    "np.zeros((4, 6))"
   ]
  },
  {
   "cell_type": "code",
   "execution_count": null,
   "id": "48f77a0d-62bc-427b-80f2-35a5d323194d",
   "metadata": {},
   "outputs": [],
   "source": []
  },
  {
   "cell_type": "code",
   "execution_count": 157,
   "id": "dc18edde-b33e-4c93-bb2f-7f570eceab5c",
   "metadata": {},
   "outputs": [
    {
     "data": {
      "text/plain": [
       "array([[1., 0., 0., 0.],\n",
       "       [0., 1., 0., 0.],\n",
       "       [0., 0., 1., 0.],\n",
       "       [0., 0., 0., 1.]])"
      ]
     },
     "execution_count": 157,
     "metadata": {},
     "output_type": "execute_result"
    }
   ],
   "source": [
    "# eye()\n",
    "\n",
    "np.eye(4, 4)"
   ]
  },
  {
   "cell_type": "code",
   "execution_count": null,
   "id": "392f84b0-ff85-418b-b973-84f67bfcfa79",
   "metadata": {},
   "outputs": [],
   "source": []
  },
  {
   "cell_type": "code",
   "execution_count": 158,
   "id": "a5dc2557-cc08-48cb-b4e2-408c4379f9cf",
   "metadata": {},
   "outputs": [
    {
     "name": "stdout",
     "output_type": "stream",
     "text": [
      "Help on _ArrayFunctionDispatcher in module numpy:\n",
      "\n",
      "concatenate(...)\n",
      "    concatenate((a1, a2, ...), axis=0, out=None, dtype=None, casting=\"same_kind\")\n",
      "\n",
      "    Join a sequence of arrays along an existing axis.\n",
      "\n",
      "    Parameters\n",
      "    ----------\n",
      "    a1, a2, ... : sequence of array_like\n",
      "        The arrays must have the same shape, except in the dimension\n",
      "        corresponding to `axis` (the first, by default).\n",
      "    axis : int, optional\n",
      "        The axis along which the arrays will be joined.  If axis is None,\n",
      "        arrays are flattened before use.  Default is 0.\n",
      "    out : ndarray, optional\n",
      "        If provided, the destination to place the result. The shape must be\n",
      "        correct, matching that of what concatenate would have returned if no\n",
      "        out argument were specified.\n",
      "    dtype : str or dtype\n",
      "        If provided, the destination array will have this dtype. Cannot be\n",
      "        provided together with `out`.\n",
      "\n",
      "        .. versionadded:: 1.20.0\n",
      "\n",
      "    casting : {'no', 'equiv', 'safe', 'same_kind', 'unsafe'}, optional\n",
      "        Controls what kind of data casting may occur. Defaults to 'same_kind'.\n",
      "\n",
      "        .. versionadded:: 1.20.0\n",
      "\n",
      "    Returns\n",
      "    -------\n",
      "    res : ndarray\n",
      "        The concatenated array.\n",
      "\n",
      "    See Also\n",
      "    --------\n",
      "    ma.concatenate : Concatenate function that preserves input masks.\n",
      "    array_split : Split an array into multiple sub-arrays of equal or\n",
      "                  near-equal size.\n",
      "    split : Split array into a list of multiple sub-arrays of equal size.\n",
      "    hsplit : Split array into multiple sub-arrays horizontally (column wise).\n",
      "    vsplit : Split array into multiple sub-arrays vertically (row wise).\n",
      "    dsplit : Split array into multiple sub-arrays along the 3rd axis (depth).\n",
      "    stack : Stack a sequence of arrays along a new axis.\n",
      "    block : Assemble arrays from blocks.\n",
      "    hstack : Stack arrays in sequence horizontally (column wise).\n",
      "    vstack : Stack arrays in sequence vertically (row wise).\n",
      "    dstack : Stack arrays in sequence depth wise (along third dimension).\n",
      "    column_stack : Stack 1-D arrays as columns into a 2-D array.\n",
      "\n",
      "    Notes\n",
      "    -----\n",
      "    When one or more of the arrays to be concatenated is a MaskedArray,\n",
      "    this function will return a MaskedArray object instead of an ndarray,\n",
      "    but the input masks are *not* preserved. In cases where a MaskedArray\n",
      "    is expected as input, use the ma.concatenate function from the masked\n",
      "    array module instead.\n",
      "\n",
      "    Examples\n",
      "    --------\n",
      "    >>> a = np.array([[1, 2], [3, 4]])\n",
      "    >>> b = np.array([[5, 6]])\n",
      "    >>> np.concatenate((a, b), axis=0)\n",
      "    array([[1, 2],\n",
      "           [3, 4],\n",
      "           [5, 6]])\n",
      "    >>> np.concatenate((a, b.T), axis=1)\n",
      "    array([[1, 2, 5],\n",
      "           [3, 4, 6]])\n",
      "    >>> np.concatenate((a, b), axis=None)\n",
      "    array([1, 2, 3, 4, 5, 6])\n",
      "\n",
      "    This function will not preserve masking of MaskedArray inputs.\n",
      "\n",
      "    >>> a = np.ma.arange(3)\n",
      "    >>> a[1] = np.ma.masked\n",
      "    >>> b = np.arange(2, 5)\n",
      "    >>> a\n",
      "    masked_array(data=[0, --, 2],\n",
      "                 mask=[False,  True, False],\n",
      "           fill_value=999999)\n",
      "    >>> b\n",
      "    array([2, 3, 4])\n",
      "    >>> np.concatenate([a, b])\n",
      "    masked_array(data=[0, 1, 2, 2, 3, 4],\n",
      "                 mask=False,\n",
      "           fill_value=999999)\n",
      "    >>> np.ma.concatenate([a, b])\n",
      "    masked_array(data=[0, --, 2, 2, 3, 4],\n",
      "                 mask=[False,  True, False, False, False, False],\n",
      "           fill_value=999999)\n",
      "\n"
     ]
    }
   ],
   "source": [
    "help(np.concatenate)"
   ]
  },
  {
   "cell_type": "code",
   "execution_count": null,
   "id": "be5f5117-3faf-42ca-b1a8-fb6a37daae66",
   "metadata": {},
   "outputs": [],
   "source": []
  },
  {
   "cell_type": "code",
   "execution_count": null,
   "id": "8b50b1bd-a1a2-4277-9dc6-c1f9b6598c16",
   "metadata": {},
   "outputs": [],
   "source": []
  },
  {
   "cell_type": "markdown",
   "id": "be0ac8f0-7c8a-4ef2-97a9-8a2b93052ee0",
   "metadata": {},
   "source": [
    "## numpy preactice question"
   ]
  },
  {
   "cell_type": "markdown",
   "id": "b570dd24-a535-4c99-8f45-9989cca88932",
   "metadata": {},
   "source": [
    "Create an empty NumPy array and populate it with the multiplication table of 3, from 3x1 to 3x10.\n",
    "\n",
    "Define a NumPy array with the elements \"apple\", \"banana\", \"cherry\", and then split each element into individual characters. Display the resulting array.\n",
    "\n",
    "Generate a 5x5 NumPy array containing random integers between 1 and 100, and then find the maximum value along each row.\n",
    "\n",
    "Create a NumPy array with the elements [\"red\", \"green\", \"blue\"] and then concatenate each element with the word \"color\". Display the resulting array.\n",
    "\n",
    "Generate a 4x4 identity matrix using NumPy and then extract the diagonal elements.\n",
    "\n",
    "Define a NumPy array containing the numbers 1 through 10 and reshape it into a 2x5 array. Compute the sum of each column.\n",
    "\n",
    "Create a NumPy array with the elements [\"apple\", \"banana\", \"cherry\"] and then convert each element to uppercase. Display the resulting array.\n",
    "\n",
    "Generate a 3x3 NumPy array with random floating-point numbers between 0 and 1. Round each element to two decimal places.\n",
    "\n",
    "Define a NumPy array containing the numbers 1 through 12 and reshape it into a 3x4 array. Transpose the array and then flatten it.\n",
    "\n",
    "Create a NumPy array with the elements [\"red\", \"green\", \"blue\"] and then repeat each element three times. Display the resulting array.\n"
   ]
  },
  {
   "cell_type": "code",
   "execution_count": null,
   "id": "88a3acce-cb8c-4b6d-96b8-b0cfe8d22a7a",
   "metadata": {},
   "outputs": [],
   "source": []
  }
 ],
 "metadata": {
  "kernelspec": {
   "display_name": "Python 3 (ipykernel)",
   "language": "python",
   "name": "python3"
  },
  "language_info": {
   "codemirror_mode": {
    "name": "ipython",
    "version": 3
   },
   "file_extension": ".py",
   "mimetype": "text/x-python",
   "name": "python",
   "nbconvert_exporter": "python",
   "pygments_lexer": "ipython3",
   "version": "3.12.3"
  }
 },
 "nbformat": 4,
 "nbformat_minor": 5
}
