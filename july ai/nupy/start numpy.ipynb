{
 "cells": [
  {
   "cell_type": "code",
   "execution_count": 1,
   "id": "cfa51bbb-df6d-43e0-aecc-9c31fc6d2d17",
   "metadata": {},
   "outputs": [
    {
     "name": "stdout",
     "output_type": "stream",
     "text": [
      "hello\n"
     ]
    }
   ],
   "source": [
    "print(\"hello\")"
   ]
  },
  {
   "cell_type": "code",
   "execution_count": 2,
   "id": "b81156e9-8d02-466a-9c47-76347d100f04",
   "metadata": {},
   "outputs": [
    {
     "name": "stdout",
     "output_type": "stream",
     "text": [
      "sssss\n"
     ]
    }
   ],
   "source": [
    "print(\"sssss\")"
   ]
  },
  {
   "cell_type": "code",
   "execution_count": 3,
   "id": "22ce4dbb-5ccf-47ac-8002-baaae94bb114",
   "metadata": {},
   "outputs": [],
   "source": [
    "# shift + enter"
   ]
  },
  {
   "cell_type": "code",
   "execution_count": 4,
   "id": "e86d4e85-3703-4495-bead-efda0751da19",
   "metadata": {},
   "outputs": [],
   "source": [
    "a = 10"
   ]
  },
  {
   "cell_type": "code",
   "execution_count": 5,
   "id": "8a6e981d-53eb-4ae4-8585-f7422baadc62",
   "metadata": {},
   "outputs": [],
   "source": [
    "b = 20"
   ]
  },
  {
   "cell_type": "code",
   "execution_count": 6,
   "id": "2ac47fe7-4d3f-44ab-b8b9-74ed244b02f0",
   "metadata": {},
   "outputs": [],
   "source": [
    "c = a + b"
   ]
  },
  {
   "cell_type": "code",
   "execution_count": 7,
   "id": "b1e3c558-447b-4827-a360-d074cfd95b98",
   "metadata": {},
   "outputs": [
    {
     "data": {
      "text/plain": [
       "30"
      ]
     },
     "execution_count": 7,
     "metadata": {},
     "output_type": "execute_result"
    }
   ],
   "source": [
    "c"
   ]
  },
  {
   "cell_type": "markdown",
   "id": "85cda024-9540-4603-bdb7-8bf0f26f32d3",
   "metadata": {},
   "source": [
    "# this is my heading"
   ]
  },
  {
   "cell_type": "markdown",
   "id": "5bfa6932-5e9c-4783-8e4a-1be9a58b98db",
   "metadata": {},
   "source": [
    "## this is my heading"
   ]
  },
  {
   "cell_type": "markdown",
   "id": "4dde57cc-ba9f-40b6-b82a-a04f39c165c5",
   "metadata": {},
   "source": [
    "### this is my heading"
   ]
  },
  {
   "cell_type": "code",
   "execution_count": 9,
   "id": "b978dd31-56fd-434d-b8da-696b2a0b71ac",
   "metadata": {},
   "outputs": [],
   "source": [
    "# sdfkdakf"
   ]
  },
  {
   "cell_type": "code",
   "execution_count": null,
   "id": "a427a056-773a-436a-8f4b-fd1386961079",
   "metadata": {},
   "outputs": [],
   "source": []
  },
  {
   "cell_type": "code",
   "execution_count": null,
   "id": "fc54b46b-b553-4eaf-abef-7fe440b4a38d",
   "metadata": {},
   "outputs": [],
   "source": [
    "Numpy : --->\n",
    "\n",
    "Numarical Python.\n",
    "\n",
    "python : 1991\n",
    "\n",
    "numpy : 2005\n",
    "aauther -> travis oliphant\n",
    "\n",
    "\n",
    "C, Java, Php, JavaScript ---> data structur \n",
    "\n",
    "array\n",
    "\n",
    "array ---> python :\n",
    "\n",
    "list\n",
    "tuple\n",
    "set\n",
    "dictonry"
   ]
  },
  {
   "cell_type": "code",
   "execution_count": null,
   "id": "2df0ae17-a6b1-4c96-9eed-f21a3e834372",
   "metadata": {},
   "outputs": [],
   "source": [
    "# array : aray is the collection homogeionus daat\n",
    "\n",
    "# list : \n",
    "\n",
    "arrays:\n",
    "1) homogenious data\n",
    "\n",
    "2) 70% --< python\n",
    "    30% C/C#\n",
    "\n",
    "array --< 50x  list"
   ]
  },
  {
   "cell_type": "code",
   "execution_count": null,
   "id": "861c406f-7c87-41a7-be96-e9a7cfcf9edf",
   "metadata": {},
   "outputs": [],
   "source": []
  },
  {
   "cell_type": "code",
   "execution_count": 12,
   "id": "fc9cb00d-86c7-4063-bde2-ea3987778839",
   "metadata": {},
   "outputs": [],
   "source": [
    "# !pip install numpy"
   ]
  },
  {
   "cell_type": "code",
   "execution_count": null,
   "id": "9571028b-3365-490b-8e5a-edf34b8e5444",
   "metadata": {},
   "outputs": [],
   "source": []
  },
  {
   "cell_type": "code",
   "execution_count": 14,
   "id": "8413e6ab-9adb-4d51-8426-88a53aed85bb",
   "metadata": {},
   "outputs": [],
   "source": [
    "# aarays\n",
    "\n",
    "import numpy as np"
   ]
  },
  {
   "cell_type": "code",
   "execution_count": null,
   "id": "d33bc586-1804-4377-8e6d-fdb05e1a09e7",
   "metadata": {},
   "outputs": [],
   "source": []
  },
  {
   "cell_type": "markdown",
   "id": "c48427fc-8369-4b04-aea4-b0ea8b4358b6",
   "metadata": {},
   "source": [
    "# numpy -----> ndarrays\n",
    "\n",
    "# ndarrays --> ndimentional arrays\n",
    "\n",
    "##### ndarray: when we create an object with the help of array method in numpy, that object is called ndarray"
   ]
  },
  {
   "cell_type": "code",
   "execution_count": 16,
   "id": "fe31d28d-d7ab-4e8e-b55b-0d48a2c76b9c",
   "metadata": {},
   "outputs": [],
   "source": [
    "arr = np.array(100)"
   ]
  },
  {
   "cell_type": "code",
   "execution_count": 17,
   "id": "71ce5e17-b925-4adc-b801-f60df74b7635",
   "metadata": {},
   "outputs": [
    {
     "data": {
      "text/plain": [
       "numpy.ndarray"
      ]
     },
     "execution_count": 17,
     "metadata": {},
     "output_type": "execute_result"
    }
   ],
   "source": [
    "type(arr)"
   ]
  },
  {
   "cell_type": "code",
   "execution_count": null,
   "id": "aa1c39c0-566b-45d3-bfca-5dc8e61c4d20",
   "metadata": {},
   "outputs": [],
   "source": []
  },
  {
   "cell_type": "code",
   "execution_count": null,
   "id": "52f51b5a-13af-4f2b-9d0c-178ce780039e",
   "metadata": {},
   "outputs": [],
   "source": [
    "ndarrays : \n",
    "    1-D Array\n",
    "    2-D array\n",
    "    3-D array\n",
    "\n",
    "\n",
    "\n",
    "    n-d array"
   ]
  },
  {
   "cell_type": "code",
   "execution_count": null,
   "id": "3f57c958-8166-40ed-ba1c-8e71419a9009",
   "metadata": {},
   "outputs": [],
   "source": []
  },
  {
   "cell_type": "code",
   "execution_count": null,
   "id": "57782461-a49a-4f4c-9065-48073562e5dd",
   "metadata": {},
   "outputs": [],
   "source": [
    "# 0-D array\n",
    "\n",
    "attributes:\n",
    "    ndim --< it returns the deminssion of ndarray\n",
    "    shape --> return number of rows or columns"
   ]
  },
  {
   "cell_type": "code",
   "execution_count": 18,
   "id": "7a8a3942-ba1d-4550-a433-67aeb7422e6e",
   "metadata": {},
   "outputs": [],
   "source": [
    "\n",
    "x = np.array(20)"
   ]
  },
  {
   "cell_type": "code",
   "execution_count": 19,
   "id": "a19b42be-5ba8-4612-a33a-3b318ad58c81",
   "metadata": {},
   "outputs": [
    {
     "data": {
      "text/plain": [
       "0"
      ]
     },
     "execution_count": 19,
     "metadata": {},
     "output_type": "execute_result"
    }
   ],
   "source": [
    "x.ndim"
   ]
  },
  {
   "cell_type": "code",
   "execution_count": 20,
   "id": "a1f0ccbd-3dbf-426c-bb59-22f4081851ba",
   "metadata": {},
   "outputs": [
    {
     "data": {
      "text/plain": [
       "()"
      ]
     },
     "execution_count": 20,
     "metadata": {},
     "output_type": "execute_result"
    }
   ],
   "source": [
    "x.shape"
   ]
  },
  {
   "cell_type": "code",
   "execution_count": null,
   "id": "d5083c21-28b3-4174-b648-f1257ce7917d",
   "metadata": {},
   "outputs": [],
   "source": []
  },
  {
   "cell_type": "code",
   "execution_count": 21,
   "id": "dee1046b-dce6-4f07-ab05-dceb2c2c8bb5",
   "metadata": {},
   "outputs": [],
   "source": [
    "# 1-D array\n",
    "\n",
    "x = np.array([12, 23, 34, 45, 567])"
   ]
  },
  {
   "cell_type": "code",
   "execution_count": 22,
   "id": "eb6eb0b4-a78c-45e2-8af3-4c8c9c55683e",
   "metadata": {},
   "outputs": [
    {
     "data": {
      "text/plain": [
       "array([ 12,  23,  34,  45, 567])"
      ]
     },
     "execution_count": 22,
     "metadata": {},
     "output_type": "execute_result"
    }
   ],
   "source": [
    "x"
   ]
  },
  {
   "cell_type": "code",
   "execution_count": 23,
   "id": "c00cf6be-7479-4338-8bdf-fbbaa3afcce1",
   "metadata": {},
   "outputs": [
    {
     "data": {
      "text/plain": [
       "1"
      ]
     },
     "execution_count": 23,
     "metadata": {},
     "output_type": "execute_result"
    }
   ],
   "source": [
    "x.ndim"
   ]
  },
  {
   "cell_type": "code",
   "execution_count": 24,
   "id": "90cd9187-3d12-46f8-a8a3-ce28778ab56c",
   "metadata": {},
   "outputs": [
    {
     "data": {
      "text/plain": [
       "(5,)"
      ]
     },
     "execution_count": 24,
     "metadata": {},
     "output_type": "execute_result"
    }
   ],
   "source": [
    "x.shape"
   ]
  },
  {
   "cell_type": "code",
   "execution_count": null,
   "id": "4310ca0a-8908-4806-90db-4cea1a3901bd",
   "metadata": {},
   "outputs": [],
   "source": []
  },
  {
   "cell_type": "code",
   "execution_count": 27,
   "id": "33bb8f98-1f47-4991-a903-87d9da04239f",
   "metadata": {},
   "outputs": [],
   "source": [
    "# x = (34, )\n",
    "\n",
    "# type(x)"
   ]
  },
  {
   "cell_type": "code",
   "execution_count": null,
   "id": "02ff443d-c2b3-434e-8676-d9af9d8eaf0c",
   "metadata": {},
   "outputs": [],
   "source": []
  },
  {
   "cell_type": "code",
   "execution_count": 28,
   "id": "311854f9-223a-427b-a507-d75b6f38d44a",
   "metadata": {},
   "outputs": [],
   "source": [
    "# 2-D array\n",
    "\n",
    "# combination multiple 1-D ndarrays"
   ]
  },
  {
   "cell_type": "code",
   "execution_count": 34,
   "id": "1f8099bd-b151-4e6e-9ec5-8e6754e41084",
   "metadata": {},
   "outputs": [],
   "source": [
    "zx = np.array([[12, 23, 34, 45, 5], [34, 23, 4, 23, 54]])"
   ]
  },
  {
   "cell_type": "code",
   "execution_count": 35,
   "id": "1dfcc74e-e1fc-4f1f-9957-4db54c2aab67",
   "metadata": {},
   "outputs": [
    {
     "data": {
      "text/plain": [
       "array([[12, 23, 34, 45,  5],\n",
       "       [34, 23,  4, 23, 54]])"
      ]
     },
     "execution_count": 35,
     "metadata": {},
     "output_type": "execute_result"
    }
   ],
   "source": [
    "zx"
   ]
  },
  {
   "cell_type": "code",
   "execution_count": 36,
   "id": "212dc64f-2637-4d10-8cc8-9221707c48bf",
   "metadata": {},
   "outputs": [
    {
     "data": {
      "text/plain": [
       "2"
      ]
     },
     "execution_count": 36,
     "metadata": {},
     "output_type": "execute_result"
    }
   ],
   "source": [
    "zx.ndim"
   ]
  },
  {
   "cell_type": "code",
   "execution_count": 37,
   "id": "36012ad3-d966-4984-909c-9661d99dc52c",
   "metadata": {},
   "outputs": [
    {
     "data": {
      "text/plain": [
       "(2, 5)"
      ]
     },
     "execution_count": 37,
     "metadata": {},
     "output_type": "execute_result"
    }
   ],
   "source": [
    "zx.shape"
   ]
  },
  {
   "cell_type": "code",
   "execution_count": null,
   "id": "3f7672df-d49a-416d-81c9-903c5a2943bc",
   "metadata": {},
   "outputs": [],
   "source": []
  },
  {
   "cell_type": "code",
   "execution_count": 46,
   "id": "c2117874-aab9-43ad-8a95-63ba2dc31e67",
   "metadata": {},
   "outputs": [],
   "source": [
    "pq = np.array([[12, 23, 34], [45, 34, 45], [45, 34, 8]])"
   ]
  },
  {
   "cell_type": "code",
   "execution_count": 48,
   "id": "7922345a-84a0-4282-8953-81cea270d7f8",
   "metadata": {},
   "outputs": [
    {
     "data": {
      "text/plain": [
       "array([[12, 23, 34],\n",
       "       [45, 34, 45],\n",
       "       [45, 34,  8]])"
      ]
     },
     "execution_count": 48,
     "metadata": {},
     "output_type": "execute_result"
    }
   ],
   "source": [
    "pq"
   ]
  },
  {
   "cell_type": "code",
   "execution_count": 44,
   "id": "335596c0-4dc6-40ec-a02e-c4465ba9ead6",
   "metadata": {},
   "outputs": [
    {
     "data": {
      "text/plain": [
       "2"
      ]
     },
     "execution_count": 44,
     "metadata": {},
     "output_type": "execute_result"
    }
   ],
   "source": [
    "pq.ndim"
   ]
  },
  {
   "cell_type": "code",
   "execution_count": 49,
   "id": "9a8c9628-1e07-4ec5-8c83-54d930455dc1",
   "metadata": {},
   "outputs": [
    {
     "data": {
      "text/plain": [
       "(3, 3)"
      ]
     },
     "execution_count": 49,
     "metadata": {},
     "output_type": "execute_result"
    }
   ],
   "source": [
    "pq.shape"
   ]
  },
  {
   "cell_type": "code",
   "execution_count": null,
   "id": "497a8ad8-3007-4c67-b33a-30d8670c7e00",
   "metadata": {},
   "outputs": [],
   "source": []
  },
  {
   "cell_type": "code",
   "execution_count": 50,
   "id": "f177acd0-2339-4daa-86ba-2fa0a73bfaf6",
   "metadata": {},
   "outputs": [],
   "source": [
    "# 3-D ndarray\n",
    "\n",
    "# combinatio  mumtllfn  2"
   ]
  },
  {
   "cell_type": "code",
   "execution_count": 55,
   "id": "d9461f97-8651-43df-bc1f-534125f17699",
   "metadata": {},
   "outputs": [],
   "source": [
    "zx = np.array([[[23, 34, 45], [56, 34, 23]], [[56, 34, 2], [67, 12, 34]]])"
   ]
  },
  {
   "cell_type": "code",
   "execution_count": 56,
   "id": "8d79774e-93f0-4dcf-be13-21adbdc26109",
   "metadata": {},
   "outputs": [
    {
     "data": {
      "text/plain": [
       "array([[[23, 34, 45],\n",
       "        [56, 34, 23]],\n",
       "\n",
       "       [[56, 34,  2],\n",
       "        [67, 12, 34]]])"
      ]
     },
     "execution_count": 56,
     "metadata": {},
     "output_type": "execute_result"
    }
   ],
   "source": [
    "zx"
   ]
  },
  {
   "cell_type": "code",
   "execution_count": 57,
   "id": "6571aede-e59c-433c-82bf-b94b886f58d7",
   "metadata": {},
   "outputs": [
    {
     "data": {
      "text/plain": [
       "3"
      ]
     },
     "execution_count": 57,
     "metadata": {},
     "output_type": "execute_result"
    }
   ],
   "source": [
    "zx.ndim"
   ]
  },
  {
   "cell_type": "code",
   "execution_count": 58,
   "id": "59a4bf6a-c12c-4cc2-8c5f-30fd888620cf",
   "metadata": {},
   "outputs": [
    {
     "data": {
      "text/plain": [
       "(2, 2, 3)"
      ]
     },
     "execution_count": 58,
     "metadata": {},
     "output_type": "execute_result"
    }
   ],
   "source": [
    "zx.shape"
   ]
  },
  {
   "cell_type": "code",
   "execution_count": null,
   "id": "e2efb361-c227-4b50-849b-554365fa0a6c",
   "metadata": {},
   "outputs": [],
   "source": []
  },
  {
   "cell_type": "code",
   "execution_count": 59,
   "id": "effdcd23-6e27-463e-8a03-702486c749e8",
   "metadata": {},
   "outputs": [],
   "source": [
    "x = np.array([[[[[[[[5]]]]]]]])"
   ]
  },
  {
   "cell_type": "code",
   "execution_count": 60,
   "id": "bb68614e-6003-4723-af30-c5dd3839b181",
   "metadata": {},
   "outputs": [
    {
     "data": {
      "text/plain": [
       "8"
      ]
     },
     "execution_count": 60,
     "metadata": {},
     "output_type": "execute_result"
    }
   ],
   "source": [
    "x.ndim"
   ]
  },
  {
   "cell_type": "code",
   "execution_count": null,
   "id": "fea2d728-ca5a-49af-8676-361fba6219bc",
   "metadata": {},
   "outputs": [],
   "source": []
  }
 ],
 "metadata": {
  "kernelspec": {
   "display_name": "Python 3 (ipykernel)",
   "language": "python",
   "name": "python3"
  },
  "language_info": {
   "codemirror_mode": {
    "name": "ipython",
    "version": 3
   },
   "file_extension": ".py",
   "mimetype": "text/x-python",
   "name": "python",
   "nbconvert_exporter": "python",
   "pygments_lexer": "ipython3",
   "version": "3.12.3"
  }
 },
 "nbformat": 4,
 "nbformat_minor": 5
}
