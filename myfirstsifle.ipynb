{
 "cells": [
  {
   "cell_type": "code",
   "execution_count": 1,
   "id": "dc311eb2-6ef6-45b1-b716-32c9e059744f",
   "metadata": {},
   "outputs": [
    {
     "name": "stdout",
     "output_type": "stream",
     "text": [
      "hello world\n"
     ]
    }
   ],
   "source": [
    "print(\"hello world\")"
   ]
  },
  {
   "cell_type": "code",
   "execution_count": 2,
   "id": "3da0b510-fbe1-41a8-84dc-e175e0e79075",
   "metadata": {},
   "outputs": [
    {
     "name": "stdout",
     "output_type": "stream",
     "text": [
      "heyyyyyyyyyyy\n"
     ]
    }
   ],
   "source": [
    "print(\"heyyyyyyyyyyy\")"
   ]
  },
  {
   "cell_type": "code",
   "execution_count": null,
   "id": "154a5f18-08a3-4325-93e6-63cfac060d57",
   "metadata": {},
   "outputs": [],
   "source": []
  },
  {
   "cell_type": "code",
   "execution_count": 3,
   "id": "8b86e8e0-9553-496c-b7c7-123ffc6fda30",
   "metadata": {},
   "outputs": [],
   "source": [
    "a = 10\n",
    "b = 20"
   ]
  },
  {
   "cell_type": "code",
   "execution_count": 4,
   "id": "745eeb93-896a-4efd-8664-73f1bd412961",
   "metadata": {},
   "outputs": [],
   "source": [
    "c = a + b"
   ]
  },
  {
   "cell_type": "code",
   "execution_count": 6,
   "id": "266113fd-7aec-4578-bdf5-db7b5f20f06c",
   "metadata": {},
   "outputs": [
    {
     "data": {
      "text/plain": [
       "30"
      ]
     },
     "execution_count": 6,
     "metadata": {},
     "output_type": "execute_result"
    }
   ],
   "source": [
    "c"
   ]
  },
  {
   "cell_type": "markdown",
   "id": "20cc7176-4f86-4214-b9cd-317eca83e9da",
   "metadata": {},
   "source": [
    "### Adding two  number "
   ]
  },
  {
   "cell_type": "code",
   "execution_count": null,
   "id": "c70f2537-e79a-4d02-84a5-755f531be7fc",
   "metadata": {},
   "outputs": [],
   "source": []
  }
 ],
 "metadata": {
  "kernelspec": {
   "display_name": "Python 3 (ipykernel)",
   "language": "python",
   "name": "python3"
  },
  "language_info": {
   "codemirror_mode": {
    "name": "ipython",
    "version": 3
   },
   "file_extension": ".py",
   "mimetype": "text/x-python",
   "name": "python",
   "nbconvert_exporter": "python",
   "pygments_lexer": "ipython3",
   "version": "3.12.0"
  }
 },
 "nbformat": 4,
 "nbformat_minor": 5
}
