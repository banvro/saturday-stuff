{
 "cells": [
  {
   "cell_type": "code",
   "execution_count": 1,
   "id": "0df088e0-b84a-4408-8124-322eda00328b",
   "metadata": {},
   "outputs": [],
   "source": [
    "# Numpy:"
   ]
  },
  {
   "cell_type": "code",
   "execution_count": 2,
   "id": "d48e7ee9-2e32-481d-98b6-b2a21e8c219b",
   "metadata": {},
   "outputs": [],
   "source": [
    "# ndim\n",
    "# shape"
   ]
  },
  {
   "cell_type": "code",
   "execution_count": 3,
   "id": "e964d689-a126-4473-a97d-bac194c8ab9e",
   "metadata": {},
   "outputs": [],
   "source": [
    "import numpy as np"
   ]
  },
  {
   "cell_type": "code",
   "execution_count": 4,
   "id": "58f7c6d3-d0aa-441e-98ab-40aaf251899c",
   "metadata": {},
   "outputs": [],
   "source": [
    "# reshape:------"
   ]
  },
  {
   "cell_type": "code",
   "execution_count": 5,
   "id": "8dc5c9e8-870b-41b0-9d1b-af7c40b986ab",
   "metadata": {},
   "outputs": [],
   "source": [
    "# 1d -- 2d, 3d, ...nd"
   ]
  },
  {
   "cell_type": "code",
   "execution_count": 6,
   "id": "7c9b1105-382f-4e14-a4e8-3a310bbef00e",
   "metadata": {},
   "outputs": [],
   "source": [
    "x = np.array([12, 34, 23, 45, 567, 45, 23, 12, 34, 100, 89])"
   ]
  },
  {
   "cell_type": "code",
   "execution_count": 8,
   "id": "efe3db7f-6d8a-4886-945b-c46954b88c45",
   "metadata": {},
   "outputs": [
    {
     "data": {
      "text/plain": [
       "1"
      ]
     },
     "execution_count": 8,
     "metadata": {},
     "output_type": "execute_result"
    }
   ],
   "source": [
    "x.ndim"
   ]
  },
  {
   "cell_type": "code",
   "execution_count": 9,
   "id": "2720e180-9ce6-4b51-92b8-cad80a9024d8",
   "metadata": {},
   "outputs": [
    {
     "data": {
      "text/plain": [
       "(11,)"
      ]
     },
     "execution_count": 9,
     "metadata": {},
     "output_type": "execute_result"
    }
   ],
   "source": [
    "x.shape"
   ]
  },
  {
   "cell_type": "code",
   "execution_count": null,
   "id": "6bcee19e-1957-463b-9a6b-9fb3627a0e65",
   "metadata": {},
   "outputs": [],
   "source": []
  },
  {
   "cell_type": "code",
   "execution_count": 10,
   "id": "e2640352-fa89-4a5e-9e0e-1b5b96fd86c4",
   "metadata": {},
   "outputs": [],
   "source": [
    "x = [23, 45, 23, 56, 78, 354, 23, 56, 100]"
   ]
  },
  {
   "cell_type": "code",
   "execution_count": 11,
   "id": "2ca761c3-ad88-4e9d-b975-e233c8cd0392",
   "metadata": {},
   "outputs": [
    {
     "data": {
      "text/plain": [
       "9"
      ]
     },
     "execution_count": 11,
     "metadata": {},
     "output_type": "execute_result"
    }
   ],
   "source": [
    "len(x)"
   ]
  },
  {
   "cell_type": "code",
   "execution_count": null,
   "id": "39c32e3a-c4c1-42cc-9c06-f9e617dac94b",
   "metadata": {},
   "outputs": [],
   "source": []
  },
  {
   "cell_type": "code",
   "execution_count": 24,
   "id": "8f83c289-bfeb-42e9-9d5b-1980a00d7846",
   "metadata": {},
   "outputs": [],
   "source": [
    "x = np.array([12, 34, 23, 45, 567, 45, 23, 12, 34, 100, 89, 34])"
   ]
  },
  {
   "cell_type": "code",
   "execution_count": 25,
   "id": "ec897c12-60f6-47bf-bc03-c9dc910907c9",
   "metadata": {},
   "outputs": [
    {
     "data": {
      "text/plain": [
       "12"
      ]
     },
     "execution_count": 25,
     "metadata": {},
     "output_type": "execute_result"
    }
   ],
   "source": [
    "len(x)\n",
    "\n",
    "# 6, 6"
   ]
  },
  {
   "cell_type": "code",
   "execution_count": 37,
   "id": "92151333-4ccc-4d53-a2dd-54a046fb4109",
   "metadata": {},
   "outputs": [
    {
     "data": {
      "text/plain": [
       "array([[[ 12,  34],\n",
       "        [ 23,  45],\n",
       "        [567,  45]],\n",
       "\n",
       "       [[ 23,  12],\n",
       "        [ 34, 100],\n",
       "        [ 89,  34]]])"
      ]
     },
     "execution_count": 37,
     "metadata": {},
     "output_type": "execute_result"
    }
   ],
   "source": [
    "x.reshape(2, 3, 2)"
   ]
  },
  {
   "cell_type": "code",
   "execution_count": null,
   "id": "0b35889f-07b5-4fdf-b419-29f6c4edbc98",
   "metadata": {},
   "outputs": [],
   "source": []
  },
  {
   "cell_type": "code",
   "execution_count": 27,
   "id": "d087d89c-d1e4-4bc7-ac08-2968379e33ef",
   "metadata": {},
   "outputs": [],
   "source": [
    "# -1"
   ]
  },
  {
   "cell_type": "code",
   "execution_count": 28,
   "id": "8bad2c2f-6c2e-44de-8f03-d0e45754076e",
   "metadata": {},
   "outputs": [],
   "source": [
    "x = np.array([12, 34, 23, 45, 567, 45, 23, 12, 34, 100, 89, 34])"
   ]
  },
  {
   "cell_type": "code",
   "execution_count": 30,
   "id": "6f7950af-73ae-4711-835e-decc2208e543",
   "metadata": {},
   "outputs": [
    {
     "data": {
      "text/plain": [
       "array([[ 12,  34,  23,  45, 567,  45],\n",
       "       [ 23,  12,  34, 100,  89,  34]])"
      ]
     },
     "execution_count": 30,
     "metadata": {},
     "output_type": "execute_result"
    }
   ],
   "source": [
    "x.reshape(2, -1)"
   ]
  },
  {
   "cell_type": "code",
   "execution_count": null,
   "id": "e3bdc6d0-3335-4fe4-8ac8-4eca73767841",
   "metadata": {},
   "outputs": [],
   "source": []
  },
  {
   "cell_type": "code",
   "execution_count": 33,
   "id": "139141db-e424-49a7-80fa-2f4d6da09f81",
   "metadata": {},
   "outputs": [
    {
     "data": {
      "text/plain": [
       "array([[ 12,  34,  23,  45],\n",
       "       [567,  45,  23,  12],\n",
       "       [ 34, 100,  89,  34]])"
      ]
     },
     "execution_count": 33,
     "metadata": {},
     "output_type": "execute_result"
    }
   ],
   "source": [
    "x.reshape(-1, 4)"
   ]
  },
  {
   "cell_type": "code",
   "execution_count": null,
   "id": "b2e9c73f-5ede-4d5b-8453-13d32ccd2358",
   "metadata": {},
   "outputs": [],
   "source": []
  },
  {
   "cell_type": "code",
   "execution_count": null,
   "id": "e3dd27a8-77e0-4ac5-a082-148b49c31266",
   "metadata": {},
   "outputs": [],
   "source": []
  },
  {
   "cell_type": "code",
   "execution_count": 40,
   "id": "d4132207-1c70-481a-8b2d-45e10357ed96",
   "metadata": {},
   "outputs": [],
   "source": [
    "zx = np.array([[34,23, 45, 32, 45, 23], [45, 67, 4,5, 6, 56]])"
   ]
  },
  {
   "cell_type": "code",
   "execution_count": 41,
   "id": "59dc218d-f42c-4e55-8924-5bb1fdb48449",
   "metadata": {},
   "outputs": [
    {
     "data": {
      "text/plain": [
       "2"
      ]
     },
     "execution_count": 41,
     "metadata": {},
     "output_type": "execute_result"
    }
   ],
   "source": [
    "zx.ndim"
   ]
  },
  {
   "cell_type": "code",
   "execution_count": 42,
   "id": "23499954-6c7f-4693-8a76-0fa0c4addb66",
   "metadata": {},
   "outputs": [
    {
     "data": {
      "text/plain": [
       "array([34, 23, 45, 32, 45, 23, 45, 67,  4,  5,  6, 56])"
      ]
     },
     "execution_count": 42,
     "metadata": {},
     "output_type": "execute_result"
    }
   ],
   "source": [
    "zx.reshape(-1)"
   ]
  },
  {
   "cell_type": "code",
   "execution_count": null,
   "id": "17bce23b-6ed6-4282-9c78-674524d58f17",
   "metadata": {},
   "outputs": [],
   "source": []
  },
  {
   "cell_type": "code",
   "execution_count": 43,
   "id": "60724137-6d37-412f-b3a1-67f4b24c23a6",
   "metadata": {},
   "outputs": [],
   "source": [
    "# important functions:::::::::"
   ]
  },
  {
   "cell_type": "code",
   "execution_count": null,
   "id": "6c4782c9-1ff9-4034-9c47-51d91aba99c2",
   "metadata": {},
   "outputs": [],
   "source": []
  },
  {
   "cell_type": "code",
   "execution_count": 44,
   "id": "7d5d9972-4042-4d91-9431-50fcbff2b4ec",
   "metadata": {},
   "outputs": [],
   "source": [
    "# 1) unique()"
   ]
  },
  {
   "cell_type": "code",
   "execution_count": 45,
   "id": "5f54612b-a59a-4c21-9343-c93e4e0518cb",
   "metadata": {},
   "outputs": [],
   "source": [
    "# random"
   ]
  },
  {
   "cell_type": "code",
   "execution_count": 46,
   "id": "d8577229-0bc9-4de6-abfb-4574ab71c0b9",
   "metadata": {},
   "outputs": [],
   "source": [
    "# import random"
   ]
  },
  {
   "cell_type": "code",
   "execution_count": 48,
   "id": "7411a17f-bb2d-48dc-85c8-ae6561cdead5",
   "metadata": {},
   "outputs": [],
   "source": [
    "from numpy import random"
   ]
  },
  {
   "cell_type": "code",
   "execution_count": null,
   "id": "45e4ffd7-bcb7-451a-a12a-bd42ae02580b",
   "metadata": {},
   "outputs": [],
   "source": []
  },
  {
   "cell_type": "code",
   "execution_count": 79,
   "id": "d241d651-6f1d-48b1-a6f7-e35b1b92d8ab",
   "metadata": {},
   "outputs": [],
   "source": [
    "zx = random.randint(1, 50)"
   ]
  },
  {
   "cell_type": "code",
   "execution_count": 80,
   "id": "2cf099a5-4835-4c55-af4f-92bba922e802",
   "metadata": {},
   "outputs": [
    {
     "data": {
      "text/plain": [
       "27"
      ]
     },
     "execution_count": 80,
     "metadata": {},
     "output_type": "execute_result"
    }
   ],
   "source": [
    "zx"
   ]
  },
  {
   "cell_type": "code",
   "execution_count": null,
   "id": "dcf1bb18-8061-4ee5-9046-f71d3f4689a6",
   "metadata": {},
   "outputs": [],
   "source": []
  },
  {
   "cell_type": "code",
   "execution_count": 87,
   "id": "f67935e5-6611-48b3-884a-55b324a1cc80",
   "metadata": {},
   "outputs": [],
   "source": [
    "zx = random.randint(1, 50, size = (5, 3))"
   ]
  },
  {
   "cell_type": "code",
   "execution_count": 88,
   "id": "1c310ea8-7dd4-4a00-9557-f025459536c2",
   "metadata": {},
   "outputs": [
    {
     "data": {
      "text/plain": [
       "array([[31, 40, 25],\n",
       "       [42, 22, 38],\n",
       "       [14, 25, 36],\n",
       "       [46, 28, 24],\n",
       "       [15, 46, 49]])"
      ]
     },
     "execution_count": 88,
     "metadata": {},
     "output_type": "execute_result"
    }
   ],
   "source": [
    "zx"
   ]
  },
  {
   "cell_type": "code",
   "execution_count": null,
   "id": "11c98c43-29f5-40a7-bc5e-f57bd471a36e",
   "metadata": {},
   "outputs": [],
   "source": []
  },
  {
   "cell_type": "code",
   "execution_count": 89,
   "id": "718568f3-7874-4008-856c-ac138745766a",
   "metadata": {},
   "outputs": [],
   "source": [
    "# random.rand()"
   ]
  },
  {
   "cell_type": "code",
   "execution_count": null,
   "id": "c2f687e6-a7d6-445f-a5cd-d1cd6da58741",
   "metadata": {},
   "outputs": [],
   "source": [
    "# 0 ------ 1"
   ]
  },
  {
   "cell_type": "code",
   "execution_count": 91,
   "id": "c9e39273-fc36-479f-8be6-2033acbaf136",
   "metadata": {},
   "outputs": [
    {
     "data": {
      "text/plain": [
       "array([[0.46782225, 0.40678913, 0.86617661],\n",
       "       [0.39492125, 0.31591451, 0.6293492 ]])"
      ]
     },
     "execution_count": 91,
     "metadata": {},
     "output_type": "execute_result"
    }
   ],
   "source": [
    "random.rand(2, 3)"
   ]
  },
  {
   "cell_type": "code",
   "execution_count": null,
   "id": "4a8c2327-8081-40e9-bc96-2ef1b593ed24",
   "metadata": {},
   "outputs": [],
   "source": []
  },
  {
   "cell_type": "code",
   "execution_count": 92,
   "id": "5c5b03ca-9166-48d8-bab1-020b6b462ade",
   "metadata": {},
   "outputs": [],
   "source": [
    "# choice()"
   ]
  },
  {
   "cell_type": "code",
   "execution_count": 99,
   "id": "5463727a-96a9-465a-8f5d-233271a6963b",
   "metadata": {},
   "outputs": [
    {
     "data": {
      "text/plain": [
       "array([[100,  23,  56],\n",
       "       [ 56,  23, 100],\n",
       "       [ 45,  23,  23]])"
      ]
     },
     "execution_count": 99,
     "metadata": {},
     "output_type": "execute_result"
    }
   ],
   "source": [
    "xp = random.choice([23, 45, 56, 23, 45, 23, 45, 23, 100], size = (3, 3))\n",
    "xp"
   ]
  },
  {
   "cell_type": "code",
   "execution_count": null,
   "id": "2acf503b-c177-412e-8f62-4d780475f5a7",
   "metadata": {},
   "outputs": [],
   "source": []
  },
  {
   "cell_type": "code",
   "execution_count": null,
   "id": "0de77b85-7471-4646-9366-f88f52369a86",
   "metadata": {},
   "outputs": [],
   "source": [
    "zx = 002340030403403"
   ]
  },
  {
   "cell_type": "code",
   "execution_count": null,
   "id": "a3f4d922-4574-4192-a909-368839fc737e",
   "metadata": {},
   "outputs": [],
   "source": [
    "output:\n",
    "\n",
    "totel number zeros : 5\n",
    "the sum of 2, 3, 4, 3, 4, 4, 3 is : 20"
   ]
  }
 ],
 "metadata": {
  "kernelspec": {
   "display_name": "Python 3 (ipykernel)",
   "language": "python",
   "name": "python3"
  },
  "language_info": {
   "codemirror_mode": {
    "name": "ipython",
    "version": 3
   },
   "file_extension": ".py",
   "mimetype": "text/x-python",
   "name": "python",
   "nbconvert_exporter": "python",
   "pygments_lexer": "ipython3",
   "version": "3.12.0"
  }
 },
 "nbformat": 4,
 "nbformat_minor": 5
}
